{
 "cells": [
  {
   "cell_type": "markdown",
   "id": "c2651fa6-bf23-4195-84c8-8ca65643a877",
   "metadata": {},
   "source": [
    "### Ensemble of Kaggle's top 3 models"
   ]
  },
  {
   "cell_type": "code",
   "execution_count": 1,
   "id": "01cba34e-ab64-4a00-bba3-8493c9c57cf3",
   "metadata": {},
   "outputs": [],
   "source": [
    "import numpy as np\n",
    "import pandas as pd\n",
    "\n",
    "from scipy.stats import mode\n",
    "from sklearn.preprocessing import LabelEncoder"
   ]
  },
  {
   "cell_type": "code",
   "execution_count": 2,
   "id": "a3a12dd5-fa86-4e6d-a623-fc6e3b713884",
   "metadata": {},
   "outputs": [],
   "source": [
    "# Load predictions from CSV files\n",
    "autogluon_preds_df = pd.read_csv('19_17_avg_ensemble_predictions-0.98531.csv')\n",
    "xgb_preds_df = pd.read_csv('19_17_xgb,lgbm,cat,.csv')\n",
    "lgbm_preds_df = pd.read_csv('19_17_autogluon.csv')\n",
    "\n",
    "autogluon_preds = autogluon_preds_df['class']\n",
    "xgb_preds = xgb_preds_df['class']\n",
    "lgbm_preds = lgbm_preds_df['class']"
   ]
  },
  {
   "cell_type": "code",
   "execution_count": 3,
   "id": "83c03f11-cc3e-491e-85f3-853297a47b94",
   "metadata": {},
   "outputs": [],
   "source": [
    "le = LabelEncoder()\n",
    "\n",
    "autogluon_preds = le.fit_transform(autogluon_preds)\n",
    "xgb_preds = le.transform(xgb_preds)\n",
    "lgbm_preds = le.transform(lgbm_preds)"
   ]
  },
  {
   "cell_type": "code",
   "execution_count": 4,
   "id": "ea1ecec7-97d5-4540-a957-3fda419543bc",
   "metadata": {},
   "outputs": [],
   "source": [
    "# Model scores\n",
    "autogluon_score = 0.98539\n",
    "xgb_score = 0.98536\n",
    "lgbm_score = 0.98533\n",
    "\n",
    "# Normalize the weights so they sum to 1\n",
    "total_score = autogluon_score + xgb_score + lgbm_score\n",
    "\n",
    "autogluon_weight = autogluon_score / total_score\n",
    "xgb_weight = xgb_score / total_score\n",
    "lgbm_weight = lgbm_score / total_score"
   ]
  },
  {
   "cell_type": "code",
   "execution_count": 5,
   "id": "907e08aa-f1d1-40b9-aa59-efdc2909d920",
   "metadata": {},
   "outputs": [
    {
     "data": {
      "text/html": [
       "<div>\n",
       "<style scoped>\n",
       "    .dataframe tbody tr th:only-of-type {\n",
       "        vertical-align: middle;\n",
       "    }\n",
       "\n",
       "    .dataframe tbody tr th {\n",
       "        vertical-align: top;\n",
       "    }\n",
       "\n",
       "    .dataframe thead th {\n",
       "        text-align: right;\n",
       "    }\n",
       "</style>\n",
       "<table border=\"1\" class=\"dataframe\">\n",
       "  <thead>\n",
       "    <tr style=\"text-align: right;\">\n",
       "      <th></th>\n",
       "      <th>id</th>\n",
       "      <th>class</th>\n",
       "    </tr>\n",
       "  </thead>\n",
       "  <tbody>\n",
       "    <tr>\n",
       "      <th>0</th>\n",
       "      <td>3116945</td>\n",
       "      <td>e</td>\n",
       "    </tr>\n",
       "    <tr>\n",
       "      <th>1</th>\n",
       "      <td>3116946</td>\n",
       "      <td>p</td>\n",
       "    </tr>\n",
       "  </tbody>\n",
       "</table>\n",
       "</div>"
      ],
      "text/plain": [
       "        id class\n",
       "0  3116945     e\n",
       "1  3116946     p"
      ]
     },
     "execution_count": 5,
     "metadata": {},
     "output_type": "execute_result"
    }
   ],
   "source": [
    "# Combine predictions using the weights\n",
    "ensemble_preds = (autogluon_weight * autogluon_preds +\n",
    "                  xgb_weight * xgb_preds +\n",
    "                  lgbm_weight * lgbm_preds)\n",
    "\n",
    "# Convert the combined predictions to binary (0 or 1)\n",
    "final_preds_ensemble = np.round(ensemble_preds).astype(int)\n",
    "final_preds_ensemble = le.inverse_transform(final_preds_ensemble)\n",
    "\n",
    "# Prepare the output dataframe\n",
    "ensemble_output = pd.DataFrame({\n",
    "    'id': autogluon_preds_df['id'],\n",
    "    'class': final_preds_ensemble\n",
    "})\n",
    "\n",
    "ensemble_output.head(2)"
   ]
  },
  {
   "cell_type": "code",
   "execution_count": 6,
   "id": "e2bf7b3c-8943-49b8-a1c3-d13642bb633b",
   "metadata": {},
   "outputs": [],
   "source": [
    "# Save the final ensemble predictions to a CSV file\n",
    "ensemble_output.to_csv('19_17_ensemble_predictions.csv', index=False)"
   ]
  },
  {
   "cell_type": "code",
   "execution_count": 7,
   "id": "6e0483b2-78ed-44b1-9569-835d8c1f6eae",
   "metadata": {},
   "outputs": [
    {
     "data": {
      "text/html": [
       "<div>\n",
       "<style scoped>\n",
       "    .dataframe tbody tr th:only-of-type {\n",
       "        vertical-align: middle;\n",
       "    }\n",
       "\n",
       "    .dataframe tbody tr th {\n",
       "        vertical-align: top;\n",
       "    }\n",
       "\n",
       "    .dataframe thead th {\n",
       "        text-align: right;\n",
       "    }\n",
       "</style>\n",
       "<table border=\"1\" class=\"dataframe\">\n",
       "  <thead>\n",
       "    <tr style=\"text-align: right;\">\n",
       "      <th></th>\n",
       "      <th>id</th>\n",
       "      <th>class</th>\n",
       "    </tr>\n",
       "  </thead>\n",
       "  <tbody>\n",
       "    <tr>\n",
       "      <th>0</th>\n",
       "      <td>3116945</td>\n",
       "      <td>e</td>\n",
       "    </tr>\n",
       "    <tr>\n",
       "      <th>1</th>\n",
       "      <td>3116946</td>\n",
       "      <td>p</td>\n",
       "    </tr>\n",
       "  </tbody>\n",
       "</table>\n",
       "</div>"
      ],
      "text/plain": [
       "        id class\n",
       "0  3116945     e\n",
       "1  3116946     p"
      ]
     },
     "execution_count": 7,
     "metadata": {},
     "output_type": "execute_result"
    }
   ],
   "source": [
    "# Averaging the predictions\n",
    "avg_ensemble_preds = (autogluon_preds + xgb_preds + lgbm_preds) / 3\n",
    "\n",
    "# Convert the combined predictions to binary (0 or 1)\n",
    "final_preds_avg_ensemble = np.round(avg_ensemble_preds).astype(int)\n",
    "final_preds_avg_ensemble = le.inverse_transform(final_preds_avg_ensemble)\n",
    "\n",
    "# Prepare the output dataframe\n",
    "avg_ensemble_output = pd.DataFrame({\n",
    "    'id': autogluon_preds_df['id'],\n",
    "    'class': final_preds_avg_ensemble\n",
    "})\n",
    "\n",
    "avg_ensemble_output.head(2)"
   ]
  },
  {
   "cell_type": "code",
   "execution_count": 8,
   "id": "511690d3-771a-4861-a866-5c0343cbd06f",
   "metadata": {},
   "outputs": [],
   "source": [
    "# Save the final ensemble predictions to a CSV file\n",
    "avg_ensemble_output.to_csv('19_17_avg_ensemble_predictions.csv', index=False)"
   ]
  },
  {
   "cell_type": "code",
   "execution_count": 9,
   "id": "0bb9b86c-b999-4524-9082-3b817f1457f4",
   "metadata": {},
   "outputs": [
    {
     "data": {
      "text/html": [
       "<div>\n",
       "<style scoped>\n",
       "    .dataframe tbody tr th:only-of-type {\n",
       "        vertical-align: middle;\n",
       "    }\n",
       "\n",
       "    .dataframe tbody tr th {\n",
       "        vertical-align: top;\n",
       "    }\n",
       "\n",
       "    .dataframe thead th {\n",
       "        text-align: right;\n",
       "    }\n",
       "</style>\n",
       "<table border=\"1\" class=\"dataframe\">\n",
       "  <thead>\n",
       "    <tr style=\"text-align: right;\">\n",
       "      <th></th>\n",
       "      <th>id</th>\n",
       "      <th>class</th>\n",
       "    </tr>\n",
       "  </thead>\n",
       "  <tbody>\n",
       "    <tr>\n",
       "      <th>0</th>\n",
       "      <td>3116945</td>\n",
       "      <td>e</td>\n",
       "    </tr>\n",
       "    <tr>\n",
       "      <th>1</th>\n",
       "      <td>3116946</td>\n",
       "      <td>p</td>\n",
       "    </tr>\n",
       "  </tbody>\n",
       "</table>\n",
       "</div>"
      ],
      "text/plain": [
       "        id class\n",
       "0  3116945     e\n",
       "1  3116946     p"
      ]
     },
     "execution_count": 9,
     "metadata": {},
     "output_type": "execute_result"
    }
   ],
   "source": [
    "# Stack the predictions\n",
    "stacked_preds = np.stack((autogluon_preds, xgb_preds, lgbm_preds), axis=0)\n",
    "\n",
    "# Sum the predictions along axis=0\n",
    "sum_preds = np.sum(stacked_preds, axis=0)\n",
    "\n",
    "# Majority vote (more than half the models predicting 1 leads to final prediction of 1, else 0)\n",
    "stacked_ensemble_preds = (sum_preds > (stacked_preds.shape[0] // 2)).astype(int)\n",
    "stacked_ensemble_preds = le.inverse_transform(stacked_ensemble_preds)\n",
    "\n",
    "# Prepare the output dataframe\n",
    "stacked_ensemble_output = pd.DataFrame({\n",
    "    'id': autogluon_preds_df['id'],\n",
    "    'class': stacked_ensemble_preds\n",
    "})\n",
    "\n",
    "stacked_ensemble_output.head(2)"
   ]
  },
  {
   "cell_type": "code",
   "execution_count": 10,
   "id": "71385434-8485-4586-b578-20bf0d75aeb4",
   "metadata": {},
   "outputs": [],
   "source": [
    "# Save the final ensemble predictions to a CSV file\n",
    "stacked_ensemble_output.to_csv('19_17_stacked_ensemble_predictions.csv', index=False)"
   ]
  },
  {
   "cell_type": "code",
   "execution_count": 11,
   "id": "6e63dcd1-e614-45cd-bd64-ba2f80483d00",
   "metadata": {},
   "outputs": [
    {
     "data": {
      "text/html": [
       "<div>\n",
       "<style scoped>\n",
       "    .dataframe tbody tr th:only-of-type {\n",
       "        vertical-align: middle;\n",
       "    }\n",
       "\n",
       "    .dataframe tbody tr th {\n",
       "        vertical-align: top;\n",
       "    }\n",
       "\n",
       "    .dataframe thead th {\n",
       "        text-align: right;\n",
       "    }\n",
       "</style>\n",
       "<table border=\"1\" class=\"dataframe\">\n",
       "  <thead>\n",
       "    <tr style=\"text-align: right;\">\n",
       "      <th></th>\n",
       "      <th>id</th>\n",
       "      <th>class</th>\n",
       "    </tr>\n",
       "  </thead>\n",
       "  <tbody>\n",
       "    <tr>\n",
       "      <th>0</th>\n",
       "      <td>3116945</td>\n",
       "      <td>e</td>\n",
       "    </tr>\n",
       "    <tr>\n",
       "      <th>1</th>\n",
       "      <td>3116946</td>\n",
       "      <td>p</td>\n",
       "    </tr>\n",
       "  </tbody>\n",
       "</table>\n",
       "</div>"
      ],
      "text/plain": [
       "        id class\n",
       "0  3116945     e\n",
       "1  3116946     p"
      ]
     },
     "execution_count": 11,
     "metadata": {},
     "output_type": "execute_result"
    }
   ],
   "source": [
    "# Define the weights as a numpy array\n",
    "weights = np.array([autogluon_weight, xgb_weight, lgbm_weight])\n",
    "\n",
    "# Perform weighted voting by multiplying each prediction by its corresponding weight\n",
    "weighted_preds = np.average(stacked_preds, axis=0, weights=weights)\n",
    "\n",
    "# Convert the weighted predictions to binary by applying a threshold of 0.5\n",
    "weighted_stcked_ensemble_preds = (weighted_preds > 0.5).astype(int)\n",
    "weighted_stcked_ensemble_preds = le.inverse_transform(weighted_stcked_ensemble_preds)\n",
    "\n",
    "# Prepare the output dataframe\n",
    "weighted_stacked_ensemble_output = pd.DataFrame({\n",
    "    'id': autogluon_preds_df['id'],\n",
    "    'class': weighted_stcked_ensemble_preds\n",
    "})\n",
    "\n",
    "weighted_stacked_ensemble_output.head(2)"
   ]
  },
  {
   "cell_type": "code",
   "execution_count": 12,
   "id": "51fa1e7f-8d1e-4b69-9e6f-108e02346c8c",
   "metadata": {},
   "outputs": [],
   "source": [
    "# Save the final ensemble predictions to a CSV file\n",
    "weighted_stacked_ensemble_output.to_csv('19_17_weighted_stacked_ensemble_predictions.csv', index=False)"
   ]
  },
  {
   "cell_type": "code",
   "execution_count": 13,
   "id": "8d7b3dd8-5a82-49ec-85b0-13c8fe30bbd7",
   "metadata": {},
   "outputs": [
    {
     "data": {
      "text/plain": [
       "class\n",
       "p    1133805\n",
       "e     944159\n",
       "Name: count, dtype: int64"
      ]
     },
     "execution_count": 13,
     "metadata": {},
     "output_type": "execute_result"
    }
   ],
   "source": [
    "ensemble_output['class'].value_counts()"
   ]
  },
  {
   "cell_type": "code",
   "execution_count": 14,
   "id": "515560c5-e46d-4f3c-b24a-f21b6e58e7e5",
   "metadata": {},
   "outputs": [
    {
     "data": {
      "text/plain": [
       "class\n",
       "p    1133805\n",
       "e     944159\n",
       "Name: count, dtype: int64"
      ]
     },
     "execution_count": 14,
     "metadata": {},
     "output_type": "execute_result"
    }
   ],
   "source": [
    "avg_ensemble_output['class'].value_counts()"
   ]
  },
  {
   "cell_type": "code",
   "execution_count": 15,
   "id": "5ae55b22-449b-4af4-a237-aac3edc8bac1",
   "metadata": {},
   "outputs": [
    {
     "data": {
      "text/plain": [
       "class\n",
       "p    1133805\n",
       "e     944159\n",
       "Name: count, dtype: int64"
      ]
     },
     "execution_count": 15,
     "metadata": {},
     "output_type": "execute_result"
    }
   ],
   "source": [
    "stacked_ensemble_output['class'].value_counts()"
   ]
  },
  {
   "cell_type": "code",
   "execution_count": 16,
   "id": "d4e6c237-8b79-4de9-82eb-a7bff7af3215",
   "metadata": {},
   "outputs": [
    {
     "data": {
      "text/plain": [
       "class\n",
       "p    1133805\n",
       "e     944159\n",
       "Name: count, dtype: int64"
      ]
     },
     "execution_count": 16,
     "metadata": {},
     "output_type": "execute_result"
    }
   ],
   "source": [
    "weighted_stacked_ensemble_output['class'].value_counts()"
   ]
  },
  {
   "cell_type": "code",
   "execution_count": null,
   "id": "951a38d1-c100-4bad-9727-959216816c91",
   "metadata": {},
   "outputs": [],
   "source": []
  }
 ],
 "metadata": {
  "kernelspec": {
   "display_name": "Python 3 (ipykernel)",
   "language": "python",
   "name": "python3"
  },
  "language_info": {
   "codemirror_mode": {
    "name": "ipython",
    "version": 3
   },
   "file_extension": ".py",
   "mimetype": "text/x-python",
   "name": "python",
   "nbconvert_exporter": "python",
   "pygments_lexer": "ipython3",
   "version": "3.8.19"
  }
 },
 "nbformat": 4,
 "nbformat_minor": 5
}
