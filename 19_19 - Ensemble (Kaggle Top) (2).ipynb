{
 "cells": [
  {
   "cell_type": "markdown",
   "id": "c2651fa6-bf23-4195-84c8-8ca65643a877",
   "metadata": {},
   "source": [
    "### Ensemble of Kaggle's top 2 models"
   ]
  },
  {
   "cell_type": "code",
   "execution_count": 1,
   "id": "01cba34e-ab64-4a00-bba3-8493c9c57cf3",
   "metadata": {},
   "outputs": [],
   "source": [
    "import numpy as np\n",
    "import pandas as pd\n",
    "\n",
    "from scipy.stats import mode\n",
    "from sklearn.preprocessing import LabelEncoder"
   ]
  },
  {
   "cell_type": "code",
   "execution_count": 2,
   "id": "a3a12dd5-fa86-4e6d-a623-fc6e3b713884",
   "metadata": {},
   "outputs": [],
   "source": [
    "# Load predictions from CSV files\n",
    "autogluon_preds_df = pd.read_csv('19_17_autogluon.csv')\n",
    "xgb_preds_df = pd.read_csv('19_17_xgb,lgbm,cat,.csv')\n",
    "\n",
    "autogluon_preds = autogluon_preds_df['class']\n",
    "xgb_preds = xgb_preds_df['class']"
   ]
  },
  {
   "cell_type": "code",
   "execution_count": 3,
   "id": "83c03f11-cc3e-491e-85f3-853297a47b94",
   "metadata": {},
   "outputs": [],
   "source": [
    "le = LabelEncoder()\n",
    "\n",
    "autogluon_preds = le.fit_transform(autogluon_preds)\n",
    "xgb_preds = le.transform(xgb_preds)"
   ]
  },
  {
   "cell_type": "code",
   "execution_count": 4,
   "id": "ea1ecec7-97d5-4540-a957-3fda419543bc",
   "metadata": {},
   "outputs": [],
   "source": [
    "# Model scores (Public scores of the models in Kaggle)\n",
    "autogluon_score = 0.98530\n",
    "xgb_score = 0.98530"
   ]
  },
  {
   "cell_type": "code",
   "execution_count": 5,
   "id": "6e0483b2-78ed-44b1-9569-835d8c1f6eae",
   "metadata": {},
   "outputs": [
    {
     "data": {
      "text/html": [
       "<div>\n",
       "<style scoped>\n",
       "    .dataframe tbody tr th:only-of-type {\n",
       "        vertical-align: middle;\n",
       "    }\n",
       "\n",
       "    .dataframe tbody tr th {\n",
       "        vertical-align: top;\n",
       "    }\n",
       "\n",
       "    .dataframe thead th {\n",
       "        text-align: right;\n",
       "    }\n",
       "</style>\n",
       "<table border=\"1\" class=\"dataframe\">\n",
       "  <thead>\n",
       "    <tr style=\"text-align: right;\">\n",
       "      <th></th>\n",
       "      <th>id</th>\n",
       "      <th>class</th>\n",
       "    </tr>\n",
       "  </thead>\n",
       "  <tbody>\n",
       "    <tr>\n",
       "      <th>0</th>\n",
       "      <td>3116945</td>\n",
       "      <td>e</td>\n",
       "    </tr>\n",
       "    <tr>\n",
       "      <th>1</th>\n",
       "      <td>3116946</td>\n",
       "      <td>p</td>\n",
       "    </tr>\n",
       "  </tbody>\n",
       "</table>\n",
       "</div>"
      ],
      "text/plain": [
       "        id class\n",
       "0  3116945     e\n",
       "1  3116946     p"
      ]
     },
     "execution_count": 5,
     "metadata": {},
     "output_type": "execute_result"
    }
   ],
   "source": [
    "# Averaging the predictions\n",
    "avg_ensemble_preds = (autogluon_preds + xgb_preds + xgb_score) / 3\n",
    "\n",
    "# Convert the combined predictions to binary (0 or 1)\n",
    "final_preds_avg_ensemble = np.round(avg_ensemble_preds).astype(int)\n",
    "final_preds_avg_ensemble = le.inverse_transform(final_preds_avg_ensemble)\n",
    "\n",
    "# Prepare the output dataframe\n",
    "avg_ensemble_output = pd.DataFrame({\n",
    "    'id': autogluon_preds_df['id'],\n",
    "    'class': final_preds_avg_ensemble\n",
    "})\n",
    "\n",
    "avg_ensemble_output.head(2)"
   ]
  },
  {
   "cell_type": "code",
   "execution_count": 6,
   "id": "511690d3-771a-4861-a866-5c0343cbd06f",
   "metadata": {},
   "outputs": [],
   "source": [
    "# Save the final ensemble predictions to a CSV file\n",
    "avg_ensemble_output.to_csv('submission.csv', index=False)"
   ]
  },
  {
   "cell_type": "code",
   "execution_count": 7,
   "id": "515560c5-e46d-4f3c-b24a-f21b6e58e7e5",
   "metadata": {},
   "outputs": [
    {
     "data": {
      "text/plain": [
       "class\n",
       "p    1133805\n",
       "e     944159\n",
       "Name: count, dtype: int64"
      ]
     },
     "execution_count": 7,
     "metadata": {},
     "output_type": "execute_result"
    }
   ],
   "source": [
    "avg_ensemble_output['class'].value_counts()"
   ]
  },
  {
   "cell_type": "code",
   "execution_count": null,
   "id": "951a38d1-c100-4bad-9727-959216816c91",
   "metadata": {},
   "outputs": [],
   "source": []
  }
 ],
 "metadata": {
  "kernelspec": {
   "display_name": "Python 3 (ipykernel)",
   "language": "python",
   "name": "python3"
  },
  "language_info": {
   "codemirror_mode": {
    "name": "ipython",
    "version": 3
   },
   "file_extension": ".py",
   "mimetype": "text/x-python",
   "name": "python",
   "nbconvert_exporter": "python",
   "pygments_lexer": "ipython3",
   "version": "3.8.19"
  }
 },
 "nbformat": 4,
 "nbformat_minor": 5
}
