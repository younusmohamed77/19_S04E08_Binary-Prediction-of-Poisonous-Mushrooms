{
 "cells": [
  {
   "cell_type": "code",
   "execution_count": 35,
   "metadata": {},
   "outputs": [],
   "source": [
    "# Import the necessary libraries, packages and modules\n",
    "\n",
    "import warnings\n",
    "warnings.filterwarnings(\"ignore\")\n",
    "\n",
    "import category_encoders as ce\n",
    "import logging\n",
    "import numpy as np\n",
    "import pandas as pd\n",
    "import seaborn as sns\n",
    "import tensorflow as tf\n",
    "import time\n",
    "\n",
    "from catboost import CatBoostClassifier\n",
    "from collections import Counter\n",
    "from lightgbm import LGBMClassifier\n",
    "from sklearn.experimental import enable_iterative_imputer\n",
    "from sklearn.impute import IterativeImputer\n",
    "from sklearn.metrics import matthews_corrcoef\n",
    "from sklearn.model_selection import StratifiedKFold\n",
    "from sklearn.preprocessing import LabelEncoder, OrdinalEncoder\n",
    "from xgboost import XGBClassifier\n",
    "\n",
    "pd.set_option('display.max_columns', None)\n",
    "sns.set()\n",
    "%matplotlib inline\n",
    "\n",
    "logging.basicConfig(level=logging.INFO)\n",
    "logger = logging.getLogger(__name__)\n",
    "start_time = time.time()"
   ]
  },
  {
   "cell_type": "code",
   "execution_count": 36,
   "metadata": {},
   "outputs": [
    {
     "name": "stdout",
     "output_type": "stream",
     "text": [
      "Num GPUs Available:  1\n"
     ]
    }
   ],
   "source": [
    "# Test to see if TensorFlow can utilize the GPU\n",
    "print(\"Num GPUs Available: \", len(tf.config.list_physical_devices('GPU')))"
   ]
  },
  {
   "cell_type": "code",
   "execution_count": 37,
   "metadata": {},
   "outputs": [
    {
     "name": "stderr",
     "output_type": "stream",
     "text": [
      "INFO:__main__:Train data load completed. Time elapsed: 7.11 seconds\n"
     ]
    },
    {
     "data": {
      "text/html": [
       "<div>\n",
       "<style scoped>\n",
       "    .dataframe tbody tr th:only-of-type {\n",
       "        vertical-align: middle;\n",
       "    }\n",
       "\n",
       "    .dataframe tbody tr th {\n",
       "        vertical-align: top;\n",
       "    }\n",
       "\n",
       "    .dataframe thead th {\n",
       "        text-align: right;\n",
       "    }\n",
       "</style>\n",
       "<table border=\"1\" class=\"dataframe\">\n",
       "  <thead>\n",
       "    <tr style=\"text-align: right;\">\n",
       "      <th></th>\n",
       "      <th>class</th>\n",
       "      <th>cap-diameter</th>\n",
       "      <th>cap-shape</th>\n",
       "      <th>cap-surface</th>\n",
       "      <th>cap-color</th>\n",
       "      <th>does-bruise-or-bleed</th>\n",
       "      <th>gill-attachment</th>\n",
       "      <th>gill-spacing</th>\n",
       "      <th>gill-color</th>\n",
       "      <th>stem-height</th>\n",
       "      <th>stem-width</th>\n",
       "      <th>stem-root</th>\n",
       "      <th>stem-surface</th>\n",
       "      <th>stem-color</th>\n",
       "      <th>veil-type</th>\n",
       "      <th>veil-color</th>\n",
       "      <th>has-ring</th>\n",
       "      <th>ring-type</th>\n",
       "      <th>spore-print-color</th>\n",
       "      <th>habitat</th>\n",
       "      <th>season</th>\n",
       "    </tr>\n",
       "  </thead>\n",
       "  <tbody>\n",
       "    <tr>\n",
       "      <th>0</th>\n",
       "      <td>e</td>\n",
       "      <td>8.80</td>\n",
       "      <td>f</td>\n",
       "      <td>s</td>\n",
       "      <td>u</td>\n",
       "      <td>f</td>\n",
       "      <td>a</td>\n",
       "      <td>c</td>\n",
       "      <td>w</td>\n",
       "      <td>4.51</td>\n",
       "      <td>15.39</td>\n",
       "      <td>NaN</td>\n",
       "      <td>NaN</td>\n",
       "      <td>w</td>\n",
       "      <td>NaN</td>\n",
       "      <td>NaN</td>\n",
       "      <td>f</td>\n",
       "      <td>f</td>\n",
       "      <td>NaN</td>\n",
       "      <td>d</td>\n",
       "      <td>a</td>\n",
       "    </tr>\n",
       "    <tr>\n",
       "      <th>1</th>\n",
       "      <td>p</td>\n",
       "      <td>4.51</td>\n",
       "      <td>x</td>\n",
       "      <td>h</td>\n",
       "      <td>o</td>\n",
       "      <td>f</td>\n",
       "      <td>a</td>\n",
       "      <td>c</td>\n",
       "      <td>n</td>\n",
       "      <td>4.79</td>\n",
       "      <td>6.48</td>\n",
       "      <td>NaN</td>\n",
       "      <td>y</td>\n",
       "      <td>o</td>\n",
       "      <td>NaN</td>\n",
       "      <td>NaN</td>\n",
       "      <td>t</td>\n",
       "      <td>z</td>\n",
       "      <td>NaN</td>\n",
       "      <td>d</td>\n",
       "      <td>w</td>\n",
       "    </tr>\n",
       "  </tbody>\n",
       "</table>\n",
       "</div>"
      ],
      "text/plain": [
       "  class  cap-diameter cap-shape cap-surface cap-color does-bruise-or-bleed  \\\n",
       "0     e          8.80         f           s         u                    f   \n",
       "1     p          4.51         x           h         o                    f   \n",
       "\n",
       "  gill-attachment gill-spacing gill-color  stem-height  stem-width stem-root  \\\n",
       "0               a            c          w         4.51       15.39       NaN   \n",
       "1               a            c          n         4.79        6.48       NaN   \n",
       "\n",
       "  stem-surface stem-color veil-type veil-color has-ring ring-type  \\\n",
       "0          NaN          w       NaN        NaN        f         f   \n",
       "1            y          o       NaN        NaN        t         z   \n",
       "\n",
       "  spore-print-color habitat season  \n",
       "0               NaN       d      a  \n",
       "1               NaN       d      w  "
      ]
     },
     "execution_count": 37,
     "metadata": {},
     "output_type": "execute_result"
    }
   ],
   "source": [
    "train_df = pd.read_csv('train.csv')\n",
    "test_df = pd.read_csv('test.csv')\n",
    "\n",
    "train_df.drop(columns=['id'], inplace=True)\n",
    "test_df.drop(columns=['id'], inplace=True)\n",
    "\n",
    "logger.info(f\"Train data load completed. Time elapsed: {time.time() - start_time:.2f} seconds\")\n",
    "\n",
    "train_df.head(2)"
   ]
  },
  {
   "cell_type": "code",
   "execution_count": 38,
   "metadata": {},
   "outputs": [],
   "source": [
    "def handle_missing_values(train_df, test_df, seed=None):\n",
    "    \n",
    "    # Identify numerical and categorical columns\n",
    "    numerical_cols = list(train_df.select_dtypes(include=['float64', 'int64']).columns)\n",
    "    categorical_cols = list(train_df.select_dtypes(include=['object']).columns)\n",
    "    \n",
    "    if 'class' in categorical_cols:\n",
    "        categorical_cols.remove('class')\n",
    "    \n",
    "    I = IterativeImputer(random_state = 42)\n",
    "    train_df[numerical_cols] = I.fit_transform(train_df[numerical_cols])\n",
    "    test_df[numerical_cols] = I.transform(test_df[numerical_cols])\n",
    "    \n",
    "    for col in categorical_cols:\n",
    "        train_df[col].fillna('Not Available', inplace=True)\n",
    "        test_df[col].fillna('Not Available', inplace=True)\n",
    "    \n",
    "    return train_df, test_df, categorical_cols\n",
    "\n",
    "def align_columns(train_df, test_df):\n",
    "\n",
    "    common_cols = train_df.columns.intersection(test_df.columns)\n",
    "    train_df = train_df[common_cols]\n",
    "    test_df = test_df[common_cols]\n",
    "    return train_df, test_df"
   ]
  },
  {
   "cell_type": "code",
   "execution_count": 39,
   "metadata": {},
   "outputs": [
    {
     "name": "stderr",
     "output_type": "stream",
     "text": [
      "INFO:__main__:Missing values treatment completed. Time elapsed: 15.26 seconds\n"
     ]
    }
   ],
   "source": [
    "# Preprocessing\n",
    "\n",
    "train_df, test_df, categorical_cols = handle_missing_values(train_df, test_df, seed = 42)\n",
    "\n",
    "target = train_df['class']\n",
    "train_features = train_df.drop(columns = ['class'], errors = 'ignore')\n",
    "\n",
    "train_features_aligned, test_features_aligned = align_columns(train_features, test_df)\n",
    "\n",
    "logger.info(f\"Missing values treatment completed. Time elapsed: {time.time() - start_time:.2f} seconds\")"
   ]
  },
  {
   "cell_type": "code",
   "execution_count": 40,
   "metadata": {},
   "outputs": [
    {
     "name": "stderr",
     "output_type": "stream",
     "text": [
      "INFO:__main__:Categorical columns encoding completed. Time elapsed: 31.64 seconds\n"
     ]
    }
   ],
   "source": [
    "# Encoding\n",
    "\n",
    "encoder = ce.OrdinalEncoder(cols = categorical_cols, handle_unknown='ignore')\n",
    "train_df = encoder.fit_transform(train_features_aligned)\n",
    "test_df = encoder.transform(test_features_aligned)\n",
    "\n",
    "train_df['class'] = target\n",
    "\n",
    "le = LabelEncoder()\n",
    "\n",
    "train_df['class'] = le.fit_transform(train_df['class'])\n",
    "\n",
    "logger.info(f\"Categorical columns encoding completed. Time elapsed: {time.time() - start_time:.2f} seconds\")"
   ]
  },
  {
   "cell_type": "code",
   "execution_count": 41,
   "metadata": {},
   "outputs": [
    {
     "data": {
      "text/html": [
       "<div>\n",
       "<style scoped>\n",
       "    .dataframe tbody tr th:only-of-type {\n",
       "        vertical-align: middle;\n",
       "    }\n",
       "\n",
       "    .dataframe tbody tr th {\n",
       "        vertical-align: top;\n",
       "    }\n",
       "\n",
       "    .dataframe thead th {\n",
       "        text-align: right;\n",
       "    }\n",
       "</style>\n",
       "<table border=\"1\" class=\"dataframe\">\n",
       "  <thead>\n",
       "    <tr style=\"text-align: right;\">\n",
       "      <th></th>\n",
       "      <th>cap-diameter</th>\n",
       "      <th>cap-shape</th>\n",
       "      <th>cap-surface</th>\n",
       "      <th>cap-color</th>\n",
       "      <th>does-bruise-or-bleed</th>\n",
       "      <th>gill-attachment</th>\n",
       "      <th>gill-spacing</th>\n",
       "      <th>gill-color</th>\n",
       "      <th>stem-height</th>\n",
       "      <th>stem-width</th>\n",
       "      <th>stem-root</th>\n",
       "      <th>stem-surface</th>\n",
       "      <th>stem-color</th>\n",
       "      <th>veil-type</th>\n",
       "      <th>veil-color</th>\n",
       "      <th>has-ring</th>\n",
       "      <th>ring-type</th>\n",
       "      <th>spore-print-color</th>\n",
       "      <th>habitat</th>\n",
       "      <th>season</th>\n",
       "      <th>class</th>\n",
       "    </tr>\n",
       "  </thead>\n",
       "  <tbody>\n",
       "    <tr>\n",
       "      <th>0</th>\n",
       "      <td>8.80</td>\n",
       "      <td>1</td>\n",
       "      <td>1</td>\n",
       "      <td>1</td>\n",
       "      <td>1</td>\n",
       "      <td>1</td>\n",
       "      <td>1</td>\n",
       "      <td>1</td>\n",
       "      <td>4.51</td>\n",
       "      <td>15.39</td>\n",
       "      <td>1</td>\n",
       "      <td>1</td>\n",
       "      <td>1</td>\n",
       "      <td>1</td>\n",
       "      <td>1</td>\n",
       "      <td>1</td>\n",
       "      <td>1</td>\n",
       "      <td>1</td>\n",
       "      <td>1</td>\n",
       "      <td>1</td>\n",
       "      <td>0</td>\n",
       "    </tr>\n",
       "    <tr>\n",
       "      <th>1</th>\n",
       "      <td>4.51</td>\n",
       "      <td>2</td>\n",
       "      <td>2</td>\n",
       "      <td>2</td>\n",
       "      <td>1</td>\n",
       "      <td>1</td>\n",
       "      <td>1</td>\n",
       "      <td>2</td>\n",
       "      <td>4.79</td>\n",
       "      <td>6.48</td>\n",
       "      <td>1</td>\n",
       "      <td>2</td>\n",
       "      <td>2</td>\n",
       "      <td>1</td>\n",
       "      <td>1</td>\n",
       "      <td>2</td>\n",
       "      <td>2</td>\n",
       "      <td>1</td>\n",
       "      <td>1</td>\n",
       "      <td>2</td>\n",
       "      <td>1</td>\n",
       "    </tr>\n",
       "  </tbody>\n",
       "</table>\n",
       "</div>"
      ],
      "text/plain": [
       "   cap-diameter  cap-shape  cap-surface  cap-color  does-bruise-or-bleed  \\\n",
       "0          8.80          1            1          1                     1   \n",
       "1          4.51          2            2          2                     1   \n",
       "\n",
       "   gill-attachment  gill-spacing  gill-color  stem-height  stem-width  \\\n",
       "0                1             1           1         4.51       15.39   \n",
       "1                1             1           2         4.79        6.48   \n",
       "\n",
       "   stem-root  stem-surface  stem-color  veil-type  veil-color  has-ring  \\\n",
       "0          1             1           1          1           1         1   \n",
       "1          1             2           2          1           1         2   \n",
       "\n",
       "   ring-type  spore-print-color  habitat  season  class  \n",
       "0          1                  1        1       1      0  \n",
       "1          2                  1        1       2      1  "
      ]
     },
     "execution_count": 41,
     "metadata": {},
     "output_type": "execute_result"
    }
   ],
   "source": [
    "train_df.head(2)"
   ]
  },
  {
   "cell_type": "code",
   "execution_count": 42,
   "metadata": {},
   "outputs": [
    {
     "data": {
      "text/html": [
       "<div>\n",
       "<style scoped>\n",
       "    .dataframe tbody tr th:only-of-type {\n",
       "        vertical-align: middle;\n",
       "    }\n",
       "\n",
       "    .dataframe tbody tr th {\n",
       "        vertical-align: top;\n",
       "    }\n",
       "\n",
       "    .dataframe thead th {\n",
       "        text-align: right;\n",
       "    }\n",
       "</style>\n",
       "<table border=\"1\" class=\"dataframe\">\n",
       "  <thead>\n",
       "    <tr style=\"text-align: right;\">\n",
       "      <th></th>\n",
       "      <th>cap-diameter</th>\n",
       "      <th>cap-shape</th>\n",
       "      <th>cap-surface</th>\n",
       "      <th>cap-color</th>\n",
       "      <th>does-bruise-or-bleed</th>\n",
       "      <th>gill-attachment</th>\n",
       "      <th>gill-spacing</th>\n",
       "      <th>gill-color</th>\n",
       "      <th>stem-height</th>\n",
       "      <th>stem-width</th>\n",
       "      <th>stem-root</th>\n",
       "      <th>stem-surface</th>\n",
       "      <th>stem-color</th>\n",
       "      <th>veil-type</th>\n",
       "      <th>veil-color</th>\n",
       "      <th>has-ring</th>\n",
       "      <th>ring-type</th>\n",
       "      <th>spore-print-color</th>\n",
       "      <th>habitat</th>\n",
       "      <th>season</th>\n",
       "    </tr>\n",
       "  </thead>\n",
       "  <tbody>\n",
       "    <tr>\n",
       "      <th>0</th>\n",
       "      <td>8.64</td>\n",
       "      <td>2.0</td>\n",
       "      <td>8.0</td>\n",
       "      <td>6.0</td>\n",
       "      <td>2.0</td>\n",
       "      <td>6.0</td>\n",
       "      <td>2.0</td>\n",
       "      <td>1.0</td>\n",
       "      <td>11.13</td>\n",
       "      <td>17.12</td>\n",
       "      <td>2.0</td>\n",
       "      <td>1.0</td>\n",
       "      <td>1.0</td>\n",
       "      <td>2.0</td>\n",
       "      <td>3.0</td>\n",
       "      <td>2.0</td>\n",
       "      <td>7.0</td>\n",
       "      <td>1.0</td>\n",
       "      <td>1.0</td>\n",
       "      <td>1</td>\n",
       "    </tr>\n",
       "    <tr>\n",
       "      <th>1</th>\n",
       "      <td>6.90</td>\n",
       "      <td>5.0</td>\n",
       "      <td>5.0</td>\n",
       "      <td>2.0</td>\n",
       "      <td>1.0</td>\n",
       "      <td>6.0</td>\n",
       "      <td>1.0</td>\n",
       "      <td>5.0</td>\n",
       "      <td>1.27</td>\n",
       "      <td>10.75</td>\n",
       "      <td>1.0</td>\n",
       "      <td>1.0</td>\n",
       "      <td>3.0</td>\n",
       "      <td>1.0</td>\n",
       "      <td>1.0</td>\n",
       "      <td>1.0</td>\n",
       "      <td>1.0</td>\n",
       "      <td>1.0</td>\n",
       "      <td>1.0</td>\n",
       "      <td>1</td>\n",
       "    </tr>\n",
       "  </tbody>\n",
       "</table>\n",
       "</div>"
      ],
      "text/plain": [
       "   cap-diameter  cap-shape  cap-surface  cap-color  does-bruise-or-bleed  \\\n",
       "0          8.64        2.0          8.0        6.0                   2.0   \n",
       "1          6.90        5.0          5.0        2.0                   1.0   \n",
       "\n",
       "   gill-attachment  gill-spacing  gill-color  stem-height  stem-width  \\\n",
       "0              6.0           2.0         1.0        11.13       17.12   \n",
       "1              6.0           1.0         5.0         1.27       10.75   \n",
       "\n",
       "   stem-root  stem-surface  stem-color  veil-type  veil-color  has-ring  \\\n",
       "0        2.0           1.0         1.0        2.0         3.0       2.0   \n",
       "1        1.0           1.0         3.0        1.0         1.0       1.0   \n",
       "\n",
       "   ring-type  spore-print-color  habitat  season  \n",
       "0        7.0                1.0      1.0       1  \n",
       "1        1.0                1.0      1.0       1  "
      ]
     },
     "execution_count": 42,
     "metadata": {},
     "output_type": "execute_result"
    }
   ],
   "source": [
    "test_df.head(2)"
   ]
  },
  {
   "cell_type": "code",
   "execution_count": 48,
   "metadata": {},
   "outputs": [],
   "source": [
    "def evaluate(Model, X, y, test_data, name):\n",
    "\n",
    "    logger.info(f\"Evaluating {name}\")\n",
    "    \n",
    "    skf = StratifiedKFold(n_splits = 10, shuffle = True, random_state = 42)\n",
    "    train_scores = []\n",
    "    val_scores = []\n",
    "    test_predictions = [] \n",
    "    models = []\n",
    "\n",
    "    for fold, (train_index, test_index) in enumerate(skf.split(X, y), 1):\n",
    "        X_train, X_val = X.iloc[train_index], X.iloc[test_index]\n",
    "        y_train, y_val = y.iloc[train_index], y.iloc[test_index]\n",
    "        \n",
    "        model = Model\n",
    "        \n",
    "        model.fit(X_train, y_train)\n",
    "\n",
    "        y_train_pred = model.predict(X_train)\n",
    "        train_mcc = matthews_corrcoef(y_train, y_train_pred)\n",
    "        train_scores.append(train_mcc)\n",
    "\n",
    "        y_val_pred = model.predict(X_val)\n",
    "        val_mcc = matthews_corrcoef(y_val, y_val_pred)\n",
    "        val_scores.append(val_mcc)\n",
    "\n",
    "        logger.info(f\"{name} (Fold {fold}) - Train MCC Score: {train_mcc:.4f}\")\n",
    "        logger.info(f\"{name} (Fold {fold}) - Validation MCC Score: {val_mcc:.4f}\")\n",
    "        logger.info(f\"Time elapsed: {time.time() - start_time:.2f} seconds\")\n",
    "        \n",
    "        y_test_pred_proba = model.predict(test_data)\n",
    "        test_predictions.append(y_test_pred_proba)\n",
    "        logger.info(f\"{name} (Predictions for Fold {fold}) completed\")\n",
    "        logger.info(f\"Time elapsed: {time.time() - start_time:.2f} seconds\")\n",
    "        \n",
    "        models.append(model)\n",
    "\n",
    "        print(f\"Fold {fold}: Train MCC = {train_mcc:.6f}, Validation MCC = {val_mcc:.6f}\")\n",
    "\n",
    "    mean_train_mcc = np.mean(train_scores)\n",
    "    mean_val_mcc = np.mean(val_scores)\n",
    "\n",
    "    logger.info(f\"{name} completed - Mean Train MCC Score: {mean_train_mcc:.4f}\")\n",
    "    logger.info(f\"{name} completed - Mean Validation MCC Score: {mean_val_mcc:.4f}\")\n",
    "    logger.info(f\"Time elapsed: {time.time() - start_time:.2f} seconds\")\n",
    "    print(f\"Mean Train MCC: {mean_train_mcc:.6f}\")\n",
    "    print(f\"Mean Validation MCC: {mean_val_mcc:.6f}\")\n",
    "\n",
    "    return model,test_predictions"
   ]
  },
  {
   "cell_type": "code",
   "execution_count": 49,
   "metadata": {},
   "outputs": [
    {
     "name": "stderr",
     "output_type": "stream",
     "text": [
      "INFO:__main__:Evaluating XGBoost\n",
      "INFO:__main__:XGBoost (Fold 1) - Train MCC Score: 0.9873\n",
      "INFO:__main__:XGBoost (Fold 1) - Validation MCC Score: 0.9844\n",
      "INFO:__main__:Time elapsed: 303.42 seconds\n",
      "INFO:__main__:XGBoost (Predictions for Fold 1) completed\n",
      "INFO:__main__:Time elapsed: 306.62 seconds\n"
     ]
    },
    {
     "name": "stdout",
     "output_type": "stream",
     "text": [
      "Fold 1: Train MCC = 0.987311, Validation MCC = 0.984390\n"
     ]
    },
    {
     "name": "stderr",
     "output_type": "stream",
     "text": [
      "INFO:__main__:XGBoost (Fold 2) - Train MCC Score: 0.9872\n",
      "INFO:__main__:XGBoost (Fold 2) - Validation MCC Score: 0.9852\n",
      "INFO:__main__:Time elapsed: 426.08 seconds\n",
      "INFO:__main__:XGBoost (Predictions for Fold 2) completed\n",
      "INFO:__main__:Time elapsed: 429.19 seconds\n"
     ]
    },
    {
     "name": "stdout",
     "output_type": "stream",
     "text": [
      "Fold 2: Train MCC = 0.987234, Validation MCC = 0.985166\n"
     ]
    },
    {
     "name": "stderr",
     "output_type": "stream",
     "text": [
      "INFO:__main__:XGBoost (Fold 3) - Train MCC Score: 0.9873\n",
      "INFO:__main__:XGBoost (Fold 3) - Validation MCC Score: 0.9846\n",
      "INFO:__main__:Time elapsed: 551.86 seconds\n",
      "INFO:__main__:XGBoost (Predictions for Fold 3) completed\n",
      "INFO:__main__:Time elapsed: 555.11 seconds\n"
     ]
    },
    {
     "name": "stdout",
     "output_type": "stream",
     "text": [
      "Fold 3: Train MCC = 0.987266, Validation MCC = 0.984573\n"
     ]
    },
    {
     "name": "stderr",
     "output_type": "stream",
     "text": [
      "INFO:__main__:XGBoost (Fold 4) - Train MCC Score: 0.9873\n",
      "INFO:__main__:XGBoost (Fold 4) - Validation MCC Score: 0.9852\n",
      "INFO:__main__:Time elapsed: 742.24 seconds\n",
      "INFO:__main__:XGBoost (Predictions for Fold 4) completed\n",
      "INFO:__main__:Time elapsed: 745.91 seconds\n"
     ]
    },
    {
     "name": "stdout",
     "output_type": "stream",
     "text": [
      "Fold 4: Train MCC = 0.987261, Validation MCC = 0.985179\n"
     ]
    },
    {
     "name": "stderr",
     "output_type": "stream",
     "text": [
      "INFO:__main__:XGBoost (Fold 5) - Train MCC Score: 0.9873\n",
      "INFO:__main__:XGBoost (Fold 5) - Validation MCC Score: 0.9849\n",
      "INFO:__main__:Time elapsed: 927.31 seconds\n",
      "INFO:__main__:XGBoost (Predictions for Fold 5) completed\n",
      "INFO:__main__:Time elapsed: 930.91 seconds\n"
     ]
    },
    {
     "name": "stdout",
     "output_type": "stream",
     "text": [
      "Fold 5: Train MCC = 0.987267, Validation MCC = 0.984856\n"
     ]
    },
    {
     "name": "stderr",
     "output_type": "stream",
     "text": [
      "INFO:__main__:XGBoost (Fold 6) - Train MCC Score: 0.9873\n",
      "INFO:__main__:XGBoost (Fold 6) - Validation MCC Score: 0.9849\n",
      "INFO:__main__:Time elapsed: 1113.60 seconds\n",
      "INFO:__main__:XGBoost (Predictions for Fold 6) completed\n",
      "INFO:__main__:Time elapsed: 1117.22 seconds\n"
     ]
    },
    {
     "name": "stdout",
     "output_type": "stream",
     "text": [
      "Fold 6: Train MCC = 0.987265, Validation MCC = 0.984947\n"
     ]
    },
    {
     "name": "stderr",
     "output_type": "stream",
     "text": [
      "INFO:__main__:XGBoost (Fold 7) - Train MCC Score: 0.9872\n",
      "INFO:__main__:XGBoost (Fold 7) - Validation MCC Score: 0.9849\n",
      "INFO:__main__:Time elapsed: 1300.16 seconds\n",
      "INFO:__main__:XGBoost (Predictions for Fold 7) completed\n",
      "INFO:__main__:Time elapsed: 1303.82 seconds\n"
     ]
    },
    {
     "name": "stdout",
     "output_type": "stream",
     "text": [
      "Fold 7: Train MCC = 0.987244, Validation MCC = 0.984926\n"
     ]
    },
    {
     "name": "stderr",
     "output_type": "stream",
     "text": [
      "INFO:__main__:XGBoost (Fold 8) - Train MCC Score: 0.9873\n",
      "INFO:__main__:XGBoost (Fold 8) - Validation MCC Score: 0.9845\n",
      "INFO:__main__:Time elapsed: 1489.73 seconds\n",
      "INFO:__main__:XGBoost (Predictions for Fold 8) completed\n",
      "INFO:__main__:Time elapsed: 1493.42 seconds\n"
     ]
    },
    {
     "name": "stdout",
     "output_type": "stream",
     "text": [
      "Fold 8: Train MCC = 0.987330, Validation MCC = 0.984510\n"
     ]
    },
    {
     "name": "stderr",
     "output_type": "stream",
     "text": [
      "INFO:__main__:XGBoost (Fold 9) - Train MCC Score: 0.9873\n",
      "INFO:__main__:XGBoost (Fold 9) - Validation MCC Score: 0.9849\n",
      "INFO:__main__:Time elapsed: 1676.63 seconds\n",
      "INFO:__main__:XGBoost (Predictions for Fold 9) completed\n",
      "INFO:__main__:Time elapsed: 1679.79 seconds\n"
     ]
    },
    {
     "name": "stdout",
     "output_type": "stream",
     "text": [
      "Fold 9: Train MCC = 0.987264, Validation MCC = 0.984882\n"
     ]
    },
    {
     "name": "stderr",
     "output_type": "stream",
     "text": [
      "INFO:__main__:XGBoost (Fold 10) - Train MCC Score: 0.9873\n",
      "INFO:__main__:XGBoost (Fold 10) - Validation MCC Score: 0.9850\n",
      "INFO:__main__:Time elapsed: 1850.48 seconds\n",
      "INFO:__main__:XGBoost (Predictions for Fold 10) completed\n",
      "INFO:__main__:Time elapsed: 1854.05 seconds\n",
      "INFO:__main__:XGBoost completed - Mean Train MCC Score: 0.9873\n",
      "INFO:__main__:XGBoost completed - Mean Validation MCC Score: 0.9848\n",
      "INFO:__main__:Time elapsed: 1854.05 seconds\n"
     ]
    },
    {
     "name": "stdout",
     "output_type": "stream",
     "text": [
      "Fold 10: Train MCC = 0.987260, Validation MCC = 0.984965\n",
      "Mean Train MCC: 0.987270\n",
      "Mean Validation MCC: 0.984840\n"
     ]
    }
   ],
   "source": [
    "X = train_df.drop('class', axis = 1)\n",
    "y = train_df['class']\n",
    "\n",
    "# Searched hyper parameters\n",
    "Xparams_s1 = {'n_estimators': 1396, 'max_depth': 19, 'learning_rate': 0.010455050159676566, 'subsample': 0.8006842727555243, \n",
    "              'colsample_bytree': 0.5001438770455072, 'colsample_bylevel': 0.8027576507794217, 'min_child_weight': 5,\n",
    "              'reg_alpha': 1.1586967014672253e-08, 'reg_lambda': 3.3517458803447213e-06, 'gamma': 0.01841032988451454}\n",
    "\n",
    "xgb_s1 = XGBClassifier(**Xparams_s1, random_state = 42, tree_method = 'gpu_hist')   \n",
    "xgb_model_s1, xgb_preds_s1 = evaluate(xgb_s1, X, y ,test_df, \"XGBoost\")"
   ]
  },
  {
   "cell_type": "code",
   "execution_count": 51,
   "metadata": {},
   "outputs": [
    {
     "data": {
      "text/html": [
       "<div>\n",
       "<style scoped>\n",
       "    .dataframe tbody tr th:only-of-type {\n",
       "        vertical-align: middle;\n",
       "    }\n",
       "\n",
       "    .dataframe tbody tr th {\n",
       "        vertical-align: top;\n",
       "    }\n",
       "\n",
       "    .dataframe thead th {\n",
       "        text-align: right;\n",
       "    }\n",
       "</style>\n",
       "<table border=\"1\" class=\"dataframe\">\n",
       "  <thead>\n",
       "    <tr style=\"text-align: right;\">\n",
       "      <th></th>\n",
       "      <th>id</th>\n",
       "      <th>class</th>\n",
       "    </tr>\n",
       "  </thead>\n",
       "  <tbody>\n",
       "    <tr>\n",
       "      <th>0</th>\n",
       "      <td>3116945</td>\n",
       "      <td>e</td>\n",
       "    </tr>\n",
       "    <tr>\n",
       "      <th>1</th>\n",
       "      <td>3116946</td>\n",
       "      <td>p</td>\n",
       "    </tr>\n",
       "  </tbody>\n",
       "</table>\n",
       "</div>"
      ],
      "text/plain": [
       "        id class\n",
       "0  3116945     e\n",
       "1  3116946     p"
      ]
     },
     "execution_count": 51,
     "metadata": {},
     "output_type": "execute_result"
    }
   ],
   "source": [
    "sub_test_df = pd.read_csv('test.csv')\n",
    "\n",
    "xgb_test = np.mean(xgb_preds_s1, axis=0)\n",
    "\n",
    "xgbpreds = (xgb_test >= 0.5).astype(int)\n",
    "x_f = le.inverse_transform(xgbpreds)\n",
    "\n",
    "submision_df = pd.DataFrame({\n",
    "    'id' : sub_test_df['id'],\n",
    "    'class': x_f\n",
    "})\n",
    "\n",
    "submision_df.head(2)"
   ]
  },
  {
   "cell_type": "code",
   "execution_count": 52,
   "metadata": {},
   "outputs": [
    {
     "name": "stderr",
     "output_type": "stream",
     "text": [
      "INFO:__main__:Submission file created - Time elapsed: 1960.34 seconds\n"
     ]
    }
   ],
   "source": [
    "submision_df.to_csv('Submission.csv', index=False)\n",
    "logger.info(f\"Submission file created - Time elapsed: {time.time() - start_time:.2f} seconds\")"
   ]
  },
  {
   "cell_type": "code",
   "execution_count": null,
   "metadata": {},
   "outputs": [],
   "source": []
  }
 ],
 "metadata": {
  "kaggle": {
   "accelerator": "gpu",
   "dataSources": [
    {
     "databundleVersionId": 9045607,
     "sourceId": 76727,
     "sourceType": "competition"
    },
    {
     "datasetId": 478,
     "sourceId": 974,
     "sourceType": "datasetVersion"
    }
   ],
   "dockerImageVersionId": 30746,
   "isGpuEnabled": true,
   "isInternetEnabled": true,
   "language": "python",
   "sourceType": "notebook"
  },
  "kernelspec": {
   "display_name": "Python 3 (ipykernel)",
   "language": "python",
   "name": "python3"
  },
  "language_info": {
   "codemirror_mode": {
    "name": "ipython",
    "version": 3
   },
   "file_extension": ".py",
   "mimetype": "text/x-python",
   "name": "python",
   "nbconvert_exporter": "python",
   "pygments_lexer": "ipython3",
   "version": "3.8.19"
  }
 },
 "nbformat": 4,
 "nbformat_minor": 4
}
