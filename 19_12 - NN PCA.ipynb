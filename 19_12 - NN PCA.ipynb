{
 "cells": [
  {
   "cell_type": "markdown",
   "id": "60a46aaa",
   "metadata": {
    "papermill": {
     "duration": 0.009358,
     "end_time": "2024-08-17T11:38:01.360229",
     "exception": false,
     "start_time": "2024-08-17T11:38:01.350871",
     "status": "completed"
    },
    "tags": []
   },
   "source": [
    "## Importing Modules"
   ]
  },
  {
   "cell_type": "code",
   "execution_count": 1,
   "id": "c7bd63b0",
   "metadata": {
    "papermill": {
     "duration": 17.261631,
     "end_time": "2024-08-17T11:38:18.630774",
     "exception": false,
     "start_time": "2024-08-17T11:38:01.369143",
     "status": "completed"
    },
    "tags": []
   },
   "outputs": [],
   "source": [
    "import warnings\n",
    "warnings.filterwarnings('ignore')\n",
    "\n",
    "import pandas as pd\n",
    "import numpy as np\n",
    "import seaborn as sns\n",
    "from matplotlib import pyplot as plt\n",
    "\n",
    "import tensorflow as tf\n",
    "from tensorflow.keras.models import Model\n",
    "from tensorflow.keras.layers import Dense, Input, Dropout, BatchNormalization\n",
    "from tensorflow.keras.callbacks import EarlyStopping, LearningRateScheduler, ReduceLROnPlateau, ModelCheckpoint\n",
    "from tensorflow.keras.optimizers import Adam\n",
    "from tensorflow.keras.losses import BinaryCrossentropy\n",
    "from tensorflow.keras.metrics import BinaryAccuracy\n",
    "from tensorflow.keras.regularizers import l2, l1\n",
    "\n",
    "from sklearn.preprocessing import OrdinalEncoder, MinMaxScaler, LabelEncoder\n",
    "from sklearn.linear_model import LogisticRegression\n",
    "from sklearn.metrics import matthews_corrcoef\n",
    "\n",
    "import xgboost as xgb\n",
    "import lightgbm as lgb\n",
    "\n",
    "%matplotlib inline"
   ]
  },
  {
   "cell_type": "markdown",
   "id": "e270a009",
   "metadata": {
    "papermill": {
     "duration": 0.008372,
     "end_time": "2024-08-17T11:38:18.648312",
     "exception": false,
     "start_time": "2024-08-17T11:38:18.639940",
     "status": "completed"
    },
    "tags": []
   },
   "source": [
    "## Load and explore data"
   ]
  },
  {
   "cell_type": "code",
   "execution_count": 2,
   "id": "6a428e3d",
   "metadata": {
    "papermill": {
     "duration": 15.16968,
     "end_time": "2024-08-17T11:38:33.826574",
     "exception": false,
     "start_time": "2024-08-17T11:38:18.656894",
     "status": "completed"
    },
    "tags": []
   },
   "outputs": [],
   "source": [
    "train = pd.read_csv('train.csv')\n",
    "test = pd.read_csv('test.csv')"
   ]
  },
  {
   "cell_type": "code",
   "execution_count": 3,
   "id": "dfc309c3",
   "metadata": {
    "papermill": {
     "duration": 0.041605,
     "end_time": "2024-08-17T11:38:33.877688",
     "exception": false,
     "start_time": "2024-08-17T11:38:33.836083",
     "status": "completed"
    },
    "tags": []
   },
   "outputs": [
    {
     "name": "stdout",
     "output_type": "stream",
     "text": [
      "<class 'pandas.core.frame.DataFrame'>\n",
      "RangeIndex: 3116945 entries, 0 to 3116944\n",
      "Data columns (total 22 columns):\n",
      " #   Column                Dtype  \n",
      "---  ------                -----  \n",
      " 0   id                    int64  \n",
      " 1   class                 object \n",
      " 2   cap-diameter          float64\n",
      " 3   cap-shape             object \n",
      " 4   cap-surface           object \n",
      " 5   cap-color             object \n",
      " 6   does-bruise-or-bleed  object \n",
      " 7   gill-attachment       object \n",
      " 8   gill-spacing          object \n",
      " 9   gill-color            object \n",
      " 10  stem-height           float64\n",
      " 11  stem-width            float64\n",
      " 12  stem-root             object \n",
      " 13  stem-surface          object \n",
      " 14  stem-color            object \n",
      " 15  veil-type             object \n",
      " 16  veil-color            object \n",
      " 17  has-ring              object \n",
      " 18  ring-type             object \n",
      " 19  spore-print-color     object \n",
      " 20  habitat               object \n",
      " 21  season                object \n",
      "dtypes: float64(3), int64(1), object(18)\n",
      "memory usage: 523.2+ MB\n"
     ]
    }
   ],
   "source": [
    "train.info()"
   ]
  },
  {
   "cell_type": "code",
   "execution_count": 4,
   "id": "21ce969e",
   "metadata": {
    "papermill": {
     "duration": 0.257814,
     "end_time": "2024-08-17T11:38:34.145914",
     "exception": false,
     "start_time": "2024-08-17T11:38:33.888100",
     "status": "completed"
    },
    "tags": []
   },
   "outputs": [
    {
     "name": "stdout",
     "output_type": "stream",
     "text": [
      "<class 'pandas.core.frame.DataFrame'>\n",
      "RangeIndex: 2077964 entries, 0 to 2077963\n",
      "Data columns (total 21 columns):\n",
      " #   Column                Dtype  \n",
      "---  ------                -----  \n",
      " 0   id                    int64  \n",
      " 1   cap-diameter          float64\n",
      " 2   cap-shape             object \n",
      " 3   cap-surface           object \n",
      " 4   cap-color             object \n",
      " 5   does-bruise-or-bleed  object \n",
      " 6   gill-attachment       object \n",
      " 7   gill-spacing          object \n",
      " 8   gill-color            object \n",
      " 9   stem-height           float64\n",
      " 10  stem-width            float64\n",
      " 11  stem-root             object \n",
      " 12  stem-surface          object \n",
      " 13  stem-color            object \n",
      " 14  veil-type             object \n",
      " 15  veil-color            object \n",
      " 16  has-ring              object \n",
      " 17  ring-type             object \n",
      " 18  spore-print-color     object \n",
      " 19  habitat               object \n",
      " 20  season                object \n",
      "dtypes: float64(3), int64(1), object(17)\n",
      "memory usage: 332.9+ MB\n"
     ]
    }
   ],
   "source": [
    "test.info()"
   ]
  },
  {
   "cell_type": "markdown",
   "id": "031a7610",
   "metadata": {
    "papermill": {
     "duration": 0.009119,
     "end_time": "2024-08-17T11:38:34.165690",
     "exception": false,
     "start_time": "2024-08-17T11:38:34.156571",
     "status": "completed"
    },
    "tags": []
   },
   "source": [
    "## Feature engineering"
   ]
  },
  {
   "cell_type": "code",
   "execution_count": 5,
   "id": "9d1a2853",
   "metadata": {
    "papermill": {
     "duration": 1.26575,
     "end_time": "2024-08-17T11:38:35.440645",
     "exception": false,
     "start_time": "2024-08-17T11:38:34.174895",
     "status": "completed"
    },
    "tags": []
   },
   "outputs": [],
   "source": [
    "train = train.drop(['id'], axis=1)\n",
    "test = test.drop(['id'], axis=1)"
   ]
  },
  {
   "cell_type": "code",
   "execution_count": 6,
   "id": "ca62750e",
   "metadata": {
    "papermill": {
     "duration": 0.679262,
     "end_time": "2024-08-17T11:38:36.128974",
     "exception": false,
     "start_time": "2024-08-17T11:38:35.449712",
     "status": "completed"
    },
    "tags": []
   },
   "outputs": [],
   "source": [
    "num_col = train.select_dtypes(include='float64').columns\n",
    "cat_col = train.select_dtypes(include='object').columns\n",
    "target = 'class'"
   ]
  },
  {
   "cell_type": "code",
   "execution_count": 7,
   "id": "7ffa51fb",
   "metadata": {
    "papermill": {
     "duration": 0.309136,
     "end_time": "2024-08-17T11:38:36.447516",
     "exception": false,
     "start_time": "2024-08-17T11:38:36.138380",
     "status": "completed"
    },
    "tags": []
   },
   "outputs": [],
   "source": [
    "col = 'cap-diameter'\n",
    "train[col] = train[col].fillna(float(train[col].median()))\n",
    "scaler1 = MinMaxScaler()\n",
    "train[col] = scaler1.fit_transform(train[[col]])\n",
    "\n",
    "col = 'cap-diameter'\n",
    "test[col] = test[col].fillna(float(test[col].median()))\n",
    "scaler1 = MinMaxScaler()\n",
    "train[col] = scaler1.fit_transform(train[[col]])\n",
    "\n",
    "col = 'stem-height'\n",
    "test[col] = test[col].fillna(float(test[col].median()))\n",
    "scaler1 = MinMaxScaler()\n",
    "train[col] = scaler1.fit_transform(train[[col]])"
   ]
  },
  {
   "cell_type": "code",
   "execution_count": 8,
   "id": "ab6af07e",
   "metadata": {
    "papermill": {
     "duration": 8.7876,
     "end_time": "2024-08-17T11:38:45.245303",
     "exception": false,
     "start_time": "2024-08-17T11:38:36.457703",
     "status": "completed"
    },
    "tags": []
   },
   "outputs": [
    {
     "name": "stdout",
     "output_type": "stream",
     "text": [
      "Total percentage of missing values in Train Data\n",
      "stem-root            88.452732\n",
      "stem-surface         63.551362\n",
      "veil-type            94.884350\n",
      "veil-color           87.936970\n",
      "spore-print-color    91.425482\n",
      "dtype: float64\n",
      "Total percentage of missing values in Test Data\n",
      "stem-root            88.452543\n",
      "stem-surface         63.595327\n",
      "veil-type            94.878689\n",
      "veil-color           87.880445\n",
      "spore-print-color    91.417224\n",
      "dtype: float64\n"
     ]
    }
   ],
   "source": [
    "print(f\"Total percentage of missing values in Train Data\")\n",
    "\n",
    "missing_count = train.isna().sum()\n",
    "total_count = train.shape[0]\n",
    "missing_percentage = (missing_count / total_count) * 100\n",
    "high_missing_percentage = missing_percentage[missing_percentage > 50]\n",
    "print(high_missing_percentage)\n",
    "\n",
    "print(f\"Total percentage of missing values in Test Data\")\n",
    "\n",
    "missing_count = test.isna().sum()\n",
    "total_count = test.shape[0]\n",
    "missing_percentage = (missing_count / total_count) * 100\n",
    "high_missing_percentage = missing_percentage[missing_percentage > 50]\n",
    "print(high_missing_percentage)\n",
    "\n",
    "train = train.drop(['veil-type', 'spore-print-color', 'stem-root', 'veil-color'], axis=1)\n",
    "test = test.drop(['veil-type', 'spore-print-color', 'stem-root', 'veil-color'], axis=1)\n",
    "\n",
    "num_col = train.select_dtypes(include='float64').columns\n",
    "cat_col = train.select_dtypes(include='object').columns\n",
    "target = 'class'"
   ]
  },
  {
   "cell_type": "code",
   "execution_count": 9,
   "id": "00fbfec7",
   "metadata": {
    "papermill": {
     "duration": 9.923627,
     "end_time": "2024-08-17T11:38:55.179154",
     "exception": false,
     "start_time": "2024-08-17T11:38:45.255527",
     "status": "completed"
    },
    "tags": []
   },
   "outputs": [],
   "source": [
    "for column in cat_col:\n",
    "    if train[column].isnull().any():      \n",
    "        mode_value = 'miss'\n",
    "        train[column].fillna(mode_value, inplace=True)\n",
    "        mode_value1 = 'miss'\n",
    "        test[column].fillna(mode_value1, inplace=True) "
   ]
  },
  {
   "cell_type": "code",
   "execution_count": 10,
   "id": "97b51119",
   "metadata": {
    "papermill": {
     "duration": 4.113844,
     "end_time": "2024-08-17T11:38:59.302599",
     "exception": false,
     "start_time": "2024-08-17T11:38:55.188755",
     "status": "completed"
    },
    "tags": []
   },
   "outputs": [
    {
     "name": "stdout",
     "output_type": "stream",
     "text": [
      "Remaining NaN values after imputation:\n",
      "class                   0\n",
      "cap-diameter            0\n",
      "cap-shape               0\n",
      "cap-surface             0\n",
      "cap-color               0\n",
      "does-bruise-or-bleed    0\n",
      "gill-attachment         0\n",
      "gill-spacing            0\n",
      "gill-color              0\n",
      "stem-height             0\n",
      "stem-width              0\n",
      "stem-surface            0\n",
      "stem-color              0\n",
      "has-ring                0\n",
      "ring-type               0\n",
      "habitat                 0\n",
      "season                  0\n",
      "dtype: int64\n"
     ]
    }
   ],
   "source": [
    "remaining_nans = train.isnull().sum()\n",
    "print(\"Remaining NaN values after imputation:\")\n",
    "print(remaining_nans)"
   ]
  },
  {
   "cell_type": "code",
   "execution_count": 11,
   "id": "92f02b54",
   "metadata": {
    "papermill": {
     "duration": 29.075235,
     "end_time": "2024-08-17T11:39:28.387740",
     "exception": false,
     "start_time": "2024-08-17T11:38:59.312505",
     "status": "completed"
    },
    "tags": []
   },
   "outputs": [],
   "source": [
    "cat_col = list(cat_col)\n",
    "cat_col.remove(target)\n",
    "\n",
    "encoder = OrdinalEncoder(handle_unknown='use_encoded_value', unknown_value=-1)\n",
    "\n",
    "train[cat_col] = encoder.fit_transform(train[cat_col].astype(str))\n",
    "test[cat_col] = encoder.transform(test[cat_col].astype(str))"
   ]
  },
  {
   "cell_type": "code",
   "execution_count": 12,
   "id": "ef0d10a7",
   "metadata": {
    "papermill": {
     "duration": 0.874018,
     "end_time": "2024-08-17T11:39:29.271361",
     "exception": false,
     "start_time": "2024-08-17T11:39:28.397343",
     "status": "completed"
    },
    "tags": []
   },
   "outputs": [],
   "source": [
    "le = LabelEncoder()\n",
    "train[target] = le.fit_transform(train[target])"
   ]
  },
  {
   "cell_type": "code",
   "execution_count": 13,
   "id": "ea140afb",
   "metadata": {
    "papermill": {
     "duration": 0.040882,
     "end_time": "2024-08-17T11:39:29.321634",
     "exception": false,
     "start_time": "2024-08-17T11:39:29.280752",
     "status": "completed"
    },
    "tags": []
   },
   "outputs": [
    {
     "data": {
      "text/html": [
       "<div>\n",
       "<style scoped>\n",
       "    .dataframe tbody tr th:only-of-type {\n",
       "        vertical-align: middle;\n",
       "    }\n",
       "\n",
       "    .dataframe tbody tr th {\n",
       "        vertical-align: top;\n",
       "    }\n",
       "\n",
       "    .dataframe thead th {\n",
       "        text-align: right;\n",
       "    }\n",
       "</style>\n",
       "<table border=\"1\" class=\"dataframe\">\n",
       "  <thead>\n",
       "    <tr style=\"text-align: right;\">\n",
       "      <th></th>\n",
       "      <th>class</th>\n",
       "      <th>cap-diameter</th>\n",
       "      <th>cap-shape</th>\n",
       "      <th>cap-surface</th>\n",
       "      <th>cap-color</th>\n",
       "      <th>does-bruise-or-bleed</th>\n",
       "      <th>gill-attachment</th>\n",
       "      <th>gill-spacing</th>\n",
       "      <th>gill-color</th>\n",
       "      <th>stem-height</th>\n",
       "      <th>stem-width</th>\n",
       "      <th>stem-surface</th>\n",
       "      <th>stem-color</th>\n",
       "      <th>has-ring</th>\n",
       "      <th>ring-type</th>\n",
       "      <th>habitat</th>\n",
       "      <th>season</th>\n",
       "    </tr>\n",
       "  </thead>\n",
       "  <tbody>\n",
       "    <tr>\n",
       "      <th>0</th>\n",
       "      <td>0</td>\n",
       "      <td>0.108755</td>\n",
       "      <td>53.0</td>\n",
       "      <td>73.0</td>\n",
       "      <td>73.0</td>\n",
       "      <td>8.0</td>\n",
       "      <td>44.0</td>\n",
       "      <td>28.0</td>\n",
       "      <td>60.0</td>\n",
       "      <td>0.050834</td>\n",
       "      <td>15.39</td>\n",
       "      <td>47.0</td>\n",
       "      <td>56.0</td>\n",
       "      <td>5.0</td>\n",
       "      <td>18.0</td>\n",
       "      <td>25.0</td>\n",
       "      <td>0.0</td>\n",
       "    </tr>\n",
       "    <tr>\n",
       "      <th>1</th>\n",
       "      <td>1</td>\n",
       "      <td>0.055556</td>\n",
       "      <td>72.0</td>\n",
       "      <td>56.0</td>\n",
       "      <td>65.0</td>\n",
       "      <td>8.0</td>\n",
       "      <td>44.0</td>\n",
       "      <td>28.0</td>\n",
       "      <td>47.0</td>\n",
       "      <td>0.053990</td>\n",
       "      <td>6.48</td>\n",
       "      <td>59.0</td>\n",
       "      <td>48.0</td>\n",
       "      <td>19.0</td>\n",
       "      <td>40.0</td>\n",
       "      <td>25.0</td>\n",
       "      <td>3.0</td>\n",
       "    </tr>\n",
       "    <tr>\n",
       "      <th>2</th>\n",
       "      <td>0</td>\n",
       "      <td>0.085689</td>\n",
       "      <td>53.0</td>\n",
       "      <td>73.0</td>\n",
       "      <td>49.0</td>\n",
       "      <td>8.0</td>\n",
       "      <td>76.0</td>\n",
       "      <td>28.0</td>\n",
       "      <td>60.0</td>\n",
       "      <td>0.077209</td>\n",
       "      <td>9.93</td>\n",
       "      <td>52.0</td>\n",
       "      <td>47.0</td>\n",
       "      <td>5.0</td>\n",
       "      <td>18.0</td>\n",
       "      <td>36.0</td>\n",
       "      <td>3.0</td>\n",
       "    </tr>\n",
       "    <tr>\n",
       "      <th>3</th>\n",
       "      <td>0</td>\n",
       "      <td>0.047743</td>\n",
       "      <td>53.0</td>\n",
       "      <td>82.0</td>\n",
       "      <td>57.0</td>\n",
       "      <td>8.0</td>\n",
       "      <td>71.0</td>\n",
       "      <td>40.0</td>\n",
       "      <td>37.0</td>\n",
       "      <td>0.046889</td>\n",
       "      <td>6.53</td>\n",
       "      <td>47.0</td>\n",
       "      <td>56.0</td>\n",
       "      <td>5.0</td>\n",
       "      <td>18.0</td>\n",
       "      <td>25.0</td>\n",
       "      <td>2.0</td>\n",
       "    </tr>\n",
       "    <tr>\n",
       "      <th>4</th>\n",
       "      <td>0</td>\n",
       "      <td>0.072173</td>\n",
       "      <td>72.0</td>\n",
       "      <td>65.0</td>\n",
       "      <td>75.0</td>\n",
       "      <td>8.0</td>\n",
       "      <td>47.0</td>\n",
       "      <td>40.0</td>\n",
       "      <td>60.0</td>\n",
       "      <td>0.037985</td>\n",
       "      <td>8.36</td>\n",
       "      <td>47.0</td>\n",
       "      <td>56.0</td>\n",
       "      <td>5.0</td>\n",
       "      <td>18.0</td>\n",
       "      <td>29.0</td>\n",
       "      <td>0.0</td>\n",
       "    </tr>\n",
       "  </tbody>\n",
       "</table>\n",
       "</div>"
      ],
      "text/plain": [
       "   class  cap-diameter  cap-shape  cap-surface  cap-color  \\\n",
       "0      0      0.108755       53.0         73.0       73.0   \n",
       "1      1      0.055556       72.0         56.0       65.0   \n",
       "2      0      0.085689       53.0         73.0       49.0   \n",
       "3      0      0.047743       53.0         82.0       57.0   \n",
       "4      0      0.072173       72.0         65.0       75.0   \n",
       "\n",
       "   does-bruise-or-bleed  gill-attachment  gill-spacing  gill-color  \\\n",
       "0                   8.0             44.0          28.0        60.0   \n",
       "1                   8.0             44.0          28.0        47.0   \n",
       "2                   8.0             76.0          28.0        60.0   \n",
       "3                   8.0             71.0          40.0        37.0   \n",
       "4                   8.0             47.0          40.0        60.0   \n",
       "\n",
       "   stem-height  stem-width  stem-surface  stem-color  has-ring  ring-type  \\\n",
       "0     0.050834       15.39          47.0        56.0       5.0       18.0   \n",
       "1     0.053990        6.48          59.0        48.0      19.0       40.0   \n",
       "2     0.077209        9.93          52.0        47.0       5.0       18.0   \n",
       "3     0.046889        6.53          47.0        56.0       5.0       18.0   \n",
       "4     0.037985        8.36          47.0        56.0       5.0       18.0   \n",
       "\n",
       "   habitat  season  \n",
       "0     25.0     0.0  \n",
       "1     25.0     3.0  \n",
       "2     36.0     3.0  \n",
       "3     25.0     2.0  \n",
       "4     29.0     0.0  "
      ]
     },
     "execution_count": 13,
     "metadata": {},
     "output_type": "execute_result"
    }
   ],
   "source": [
    "train.head()"
   ]
  },
  {
   "cell_type": "code",
   "execution_count": 14,
   "id": "08f4522b",
   "metadata": {
    "papermill": {
     "duration": 0.038134,
     "end_time": "2024-08-17T11:39:29.369826",
     "exception": false,
     "start_time": "2024-08-17T11:39:29.331692",
     "status": "completed"
    },
    "tags": []
   },
   "outputs": [
    {
     "data": {
      "text/html": [
       "<div>\n",
       "<style scoped>\n",
       "    .dataframe tbody tr th:only-of-type {\n",
       "        vertical-align: middle;\n",
       "    }\n",
       "\n",
       "    .dataframe tbody tr th {\n",
       "        vertical-align: top;\n",
       "    }\n",
       "\n",
       "    .dataframe thead th {\n",
       "        text-align: right;\n",
       "    }\n",
       "</style>\n",
       "<table border=\"1\" class=\"dataframe\">\n",
       "  <thead>\n",
       "    <tr style=\"text-align: right;\">\n",
       "      <th></th>\n",
       "      <th>cap-diameter</th>\n",
       "      <th>cap-shape</th>\n",
       "      <th>cap-surface</th>\n",
       "      <th>cap-color</th>\n",
       "      <th>does-bruise-or-bleed</th>\n",
       "      <th>gill-attachment</th>\n",
       "      <th>gill-spacing</th>\n",
       "      <th>gill-color</th>\n",
       "      <th>stem-height</th>\n",
       "      <th>stem-width</th>\n",
       "      <th>stem-surface</th>\n",
       "      <th>stem-color</th>\n",
       "      <th>has-ring</th>\n",
       "      <th>ring-type</th>\n",
       "      <th>habitat</th>\n",
       "      <th>season</th>\n",
       "    </tr>\n",
       "  </thead>\n",
       "  <tbody>\n",
       "    <tr>\n",
       "      <th>0</th>\n",
       "      <td>8.64</td>\n",
       "      <td>72.0</td>\n",
       "      <td>67.0</td>\n",
       "      <td>64.0</td>\n",
       "      <td>21.0</td>\n",
       "      <td>64.0</td>\n",
       "      <td>40.0</td>\n",
       "      <td>60.0</td>\n",
       "      <td>11.13</td>\n",
       "      <td>17.12</td>\n",
       "      <td>47.0</td>\n",
       "      <td>56.0</td>\n",
       "      <td>19.0</td>\n",
       "      <td>19.0</td>\n",
       "      <td>25.0</td>\n",
       "      <td>0.0</td>\n",
       "    </tr>\n",
       "    <tr>\n",
       "      <th>1</th>\n",
       "      <td>6.90</td>\n",
       "      <td>64.0</td>\n",
       "      <td>77.0</td>\n",
       "      <td>65.0</td>\n",
       "      <td>8.0</td>\n",
       "      <td>64.0</td>\n",
       "      <td>28.0</td>\n",
       "      <td>62.0</td>\n",
       "      <td>1.27</td>\n",
       "      <td>10.75</td>\n",
       "      <td>47.0</td>\n",
       "      <td>47.0</td>\n",
       "      <td>5.0</td>\n",
       "      <td>18.0</td>\n",
       "      <td>25.0</td>\n",
       "      <td>0.0</td>\n",
       "    </tr>\n",
       "    <tr>\n",
       "      <th>2</th>\n",
       "      <td>2.00</td>\n",
       "      <td>48.0</td>\n",
       "      <td>55.0</td>\n",
       "      <td>64.0</td>\n",
       "      <td>8.0</td>\n",
       "      <td>64.0</td>\n",
       "      <td>28.0</td>\n",
       "      <td>47.0</td>\n",
       "      <td>6.18</td>\n",
       "      <td>3.14</td>\n",
       "      <td>47.0</td>\n",
       "      <td>47.0</td>\n",
       "      <td>5.0</td>\n",
       "      <td>18.0</td>\n",
       "      <td>25.0</td>\n",
       "      <td>1.0</td>\n",
       "    </tr>\n",
       "    <tr>\n",
       "      <th>3</th>\n",
       "      <td>3.47</td>\n",
       "      <td>72.0</td>\n",
       "      <td>77.0</td>\n",
       "      <td>64.0</td>\n",
       "      <td>8.0</td>\n",
       "      <td>71.0</td>\n",
       "      <td>28.0</td>\n",
       "      <td>47.0</td>\n",
       "      <td>4.98</td>\n",
       "      <td>8.51</td>\n",
       "      <td>47.0</td>\n",
       "      <td>56.0</td>\n",
       "      <td>19.0</td>\n",
       "      <td>40.0</td>\n",
       "      <td>25.0</td>\n",
       "      <td>2.0</td>\n",
       "    </tr>\n",
       "    <tr>\n",
       "      <th>4</th>\n",
       "      <td>6.17</td>\n",
       "      <td>72.0</td>\n",
       "      <td>56.0</td>\n",
       "      <td>77.0</td>\n",
       "      <td>8.0</td>\n",
       "      <td>67.0</td>\n",
       "      <td>40.0</td>\n",
       "      <td>62.0</td>\n",
       "      <td>6.73</td>\n",
       "      <td>13.70</td>\n",
       "      <td>47.0</td>\n",
       "      <td>58.0</td>\n",
       "      <td>19.0</td>\n",
       "      <td>25.0</td>\n",
       "      <td>25.0</td>\n",
       "      <td>2.0</td>\n",
       "    </tr>\n",
       "  </tbody>\n",
       "</table>\n",
       "</div>"
      ],
      "text/plain": [
       "   cap-diameter  cap-shape  cap-surface  cap-color  does-bruise-or-bleed  \\\n",
       "0          8.64       72.0         67.0       64.0                  21.0   \n",
       "1          6.90       64.0         77.0       65.0                   8.0   \n",
       "2          2.00       48.0         55.0       64.0                   8.0   \n",
       "3          3.47       72.0         77.0       64.0                   8.0   \n",
       "4          6.17       72.0         56.0       77.0                   8.0   \n",
       "\n",
       "   gill-attachment  gill-spacing  gill-color  stem-height  stem-width  \\\n",
       "0             64.0          40.0        60.0        11.13       17.12   \n",
       "1             64.0          28.0        62.0         1.27       10.75   \n",
       "2             64.0          28.0        47.0         6.18        3.14   \n",
       "3             71.0          28.0        47.0         4.98        8.51   \n",
       "4             67.0          40.0        62.0         6.73       13.70   \n",
       "\n",
       "   stem-surface  stem-color  has-ring  ring-type  habitat  season  \n",
       "0          47.0        56.0      19.0       19.0     25.0     0.0  \n",
       "1          47.0        47.0       5.0       18.0     25.0     0.0  \n",
       "2          47.0        47.0       5.0       18.0     25.0     1.0  \n",
       "3          47.0        56.0      19.0       40.0     25.0     2.0  \n",
       "4          47.0        58.0      19.0       25.0     25.0     2.0  "
      ]
     },
     "execution_count": 14,
     "metadata": {},
     "output_type": "execute_result"
    }
   ],
   "source": [
    "test.head()"
   ]
  },
  {
   "cell_type": "code",
   "execution_count": 15,
   "id": "a3a7b088",
   "metadata": {
    "papermill": {
     "duration": 0.189122,
     "end_time": "2024-08-17T11:39:29.569452",
     "exception": false,
     "start_time": "2024-08-17T11:39:29.380330",
     "status": "completed"
    },
    "tags": []
   },
   "outputs": [],
   "source": [
    "X = train.drop(['class'], axis=1)\n",
    "y = train['class']"
   ]
  },
  {
   "cell_type": "markdown",
   "id": "ac77ccdc",
   "metadata": {
    "papermill": {
     "duration": 0.009888,
     "end_time": "2024-08-17T11:39:29.589662",
     "exception": false,
     "start_time": "2024-08-17T11:39:29.579774",
     "status": "completed"
    },
    "tags": []
   },
   "source": [
    "## Model building"
   ]
  },
  {
   "cell_type": "code",
   "execution_count": 16,
   "id": "e4429cb6",
   "metadata": {
    "papermill": {
     "duration": 0.251372,
     "end_time": "2024-08-17T11:39:29.851244",
     "exception": false,
     "start_time": "2024-08-17T11:39:29.599872",
     "status": "completed"
    },
    "tags": []
   },
   "outputs": [],
   "source": [
    "gpus = tf.config.list_physical_devices('GPU')\n",
    "if gpus:\n",
    "    try:\n",
    "        for gpu in gpus:\n",
    "            tf.config.experimental.set_memory_growth(gpu, True)\n",
    "    except RuntimeError as e:\n",
    "        print(e)"
   ]
  },
  {
   "cell_type": "code",
   "execution_count": 17,
   "id": "f071a568",
   "metadata": {
    "papermill": {
     "duration": 0.022081,
     "end_time": "2024-08-17T11:39:29.883597",
     "exception": false,
     "start_time": "2024-08-17T11:39:29.861516",
     "status": "completed"
    },
    "tags": []
   },
   "outputs": [],
   "source": [
    "import tensorflow as tf\n",
    "\n",
    "def mcc(y_true, y_pred):\n",
    "    y_pred = tf.cast(tf.greater(y_pred, 0.5), tf.float32)\n",
    "    \n",
    "    y_true = tf.cast(tf.reshape(y_true, [-1]), tf.float32)\n",
    "    y_pred = tf.reshape(y_pred, [-1])\n",
    "    \n",
    "    cm = tf.math.confusion_matrix(y_true, y_pred, num_classes=2, dtype=tf.float32)\n",
    "    \n",
    "    tn = cm[0, 0]\n",
    "    fp = cm[0, 1]\n",
    "    fn = cm[1, 0]\n",
    "    tp = cm[1, 1]\n",
    "    \n",
    "    numerator = tp * tn - fp * fn\n",
    "    denominator = tf.sqrt((tp + fp) * (tp + fn) * (tn + fp) * (tn + fn))\n",
    "    \n",
    "    mcc_value = tf.cond(\n",
    "        tf.equal(denominator, 0),\n",
    "        lambda: tf.constant(0.0, dtype=tf.float32),\n",
    "        lambda: numerator / denominator\n",
    "    )\n",
    "    \n",
    "    return mcc_value\n"
   ]
  },
  {
   "cell_type": "code",
   "execution_count": 18,
   "id": "e25c7a9c",
   "metadata": {
    "papermill": {
     "duration": 0.345907,
     "end_time": "2024-08-17T11:39:30.240078",
     "exception": false,
     "start_time": "2024-08-17T11:39:29.894171",
     "status": "completed"
    },
    "tags": []
   },
   "outputs": [],
   "source": [
    "i = Input(shape=(16,))\n",
    "\n",
    "x = Dense(256, activation='relu', kernel_regularizer=l2(0.001))(i)\n",
    "x = BatchNormalization()(x)\n",
    "\n",
    "x = Dense(128, activation='relu', kernel_regularizer=l2(0.001))(x)\n",
    "x = Dropout(0.3)(x)\n",
    "x = BatchNormalization()(x)\n",
    "\n",
    "x = Dense(64, activation='tanh', kernel_regularizer=l2(0.001))(x)\n",
    "x = Dropout(0.3)(x)\n",
    "x = BatchNormalization()(x)\n",
    "\n",
    "x = Dense(32, activation='tanh', kernel_regularizer=l2(0.001))(x)\n",
    "x = Dropout(0.3)(x)\n",
    "x = BatchNormalization()(x)\n",
    "\n",
    "x = Dense(16, activation='tanh', kernel_regularizer=l2(0.001))(x)\n",
    "x = Dropout(0.3)(x)\n",
    "x = BatchNormalization()(x)\n",
    "\n",
    "x = Dense(8, activation='tanh', kernel_regularizer=l2(0.001))(x)\n",
    "x = Dropout(0.3)(x)\n",
    "x = BatchNormalization()(x)\n",
    "\n",
    "x = Dense(4, activation='tanh', kernel_regularizer=l2(0.001))(x)\n",
    "x = Dropout(0.3)(x)\n",
    "x = BatchNormalization()(x)\n",
    "\n",
    "x = Dense(1, activation='sigmoid')(x)\n",
    "\n",
    "model = Model(i, x)\n",
    "model.compile(\n",
    "    optimizer=Adam(learning_rate=0.001), \n",
    "    loss='binary_crossentropy', \n",
    "    metrics=[BinaryAccuracy(), mcc]\n",
    ")"
   ]
  },
  {
   "cell_type": "code",
   "execution_count": 19,
   "id": "ef4bb42f",
   "metadata": {
    "papermill": {
     "duration": 322.986438,
     "end_time": "2024-08-17T11:44:53.237040",
     "exception": false,
     "start_time": "2024-08-17T11:39:30.250602",
     "status": "completed"
    },
    "tags": []
   },
   "outputs": [
    {
     "name": "stdout",
     "output_type": "stream",
     "text": [
      "Epoch 1/60\n",
      "997/998 [============================>.] - ETA: 0s - loss: 0.3907 - binary_accuracy: 0.9226 - mcc: 0.8443\n",
      "Epoch 1: val_mcc improved from -inf to 0.81720, saving model to best_weights.keras\n",
      "998/998 [==============================] - 9s 7ms/step - loss: 0.3906 - binary_accuracy: 0.9227 - mcc: 0.8444 - val_loss: 0.3502 - val_binary_accuracy: 0.9051 - val_mcc: 0.8172 - lr: 0.0010\n",
      "Epoch 2/60\n",
      "994/998 [============================>.] - ETA: 0s - loss: 0.1690 - binary_accuracy: 0.9717 - mcc: 0.9430\n",
      "Epoch 2: val_mcc improved from 0.81720 to 0.91333, saving model to best_weights.keras\n",
      "998/998 [==============================] - 7s 7ms/step - loss: 0.1689 - binary_accuracy: 0.9717 - mcc: 0.9430 - val_loss: 0.1825 - val_binary_accuracy: 0.9569 - val_mcc: 0.9133 - lr: 0.0010\n",
      "Epoch 3/60\n",
      "993/998 [============================>.] - ETA: 0s - loss: 0.1418 - binary_accuracy: 0.9738 - mcc: 0.9472\n",
      "Epoch 3: val_mcc did not improve from 0.91333\n",
      "998/998 [==============================] - 7s 7ms/step - loss: 0.1417 - binary_accuracy: 0.9738 - mcc: 0.9472 - val_loss: 0.5125 - val_binary_accuracy: 0.8725 - val_mcc: 0.7464 - lr: 0.0010\n",
      "Epoch 4/60\n",
      "990/998 [============================>.] - ETA: 0s - loss: 0.1322 - binary_accuracy: 0.9749 - mcc: 0.9495\n",
      "Epoch 4: val_mcc did not improve from 0.91333\n",
      "998/998 [==============================] - 7s 7ms/step - loss: 0.1322 - binary_accuracy: 0.9749 - mcc: 0.9495 - val_loss: 0.1788 - val_binary_accuracy: 0.9520 - val_mcc: 0.9039 - lr: 0.0010\n",
      "Epoch 5/60\n",
      "997/998 [============================>.] - ETA: 0s - loss: 0.1272 - binary_accuracy: 0.9756 - mcc: 0.9508\n",
      "Epoch 5: val_mcc improved from 0.91333 to 0.92614, saving model to best_weights.keras\n",
      "998/998 [==============================] - 7s 7ms/step - loss: 0.1271 - binary_accuracy: 0.9756 - mcc: 0.9508 - val_loss: 0.1544 - val_binary_accuracy: 0.9633 - val_mcc: 0.9261 - lr: 0.0010\n",
      "Epoch 6/60\n",
      "997/998 [============================>.] - ETA: 0s - loss: 0.1223 - binary_accuracy: 0.9764 - mcc: 0.9525\n",
      "Epoch 6: val_mcc did not improve from 0.92614\n",
      "998/998 [==============================] - 7s 7ms/step - loss: 0.1223 - binary_accuracy: 0.9764 - mcc: 0.9525 - val_loss: 0.1717 - val_binary_accuracy: 0.9492 - val_mcc: 0.8976 - lr: 0.0010\n",
      "Epoch 7/60\n",
      "992/998 [============================>.] - ETA: 0s - loss: 0.1186 - binary_accuracy: 0.9770 - mcc: 0.9536\n",
      "Epoch 7: val_mcc did not improve from 0.92614\n",
      "998/998 [==============================] - 7s 7ms/step - loss: 0.1186 - binary_accuracy: 0.9770 - mcc: 0.9536 - val_loss: 0.3603 - val_binary_accuracy: 0.9056 - val_mcc: 0.8226 - lr: 0.0010\n",
      "Epoch 8/60\n",
      "992/998 [============================>.] - ETA: 0s - loss: 0.1157 - binary_accuracy: 0.9775 - mcc: 0.9547\n",
      "Epoch 8: val_mcc improved from 0.92614 to 0.95036, saving model to best_weights.keras\n",
      "998/998 [==============================] - 7s 7ms/step - loss: 0.1157 - binary_accuracy: 0.9775 - mcc: 0.9547 - val_loss: 0.1167 - val_binary_accuracy: 0.9753 - val_mcc: 0.9504 - lr: 0.0010\n",
      "Epoch 9/60\n",
      "997/998 [============================>.] - ETA: 0s - loss: 0.1144 - binary_accuracy: 0.9776 - mcc: 0.9548\n",
      "Epoch 9: val_mcc improved from 0.95036 to 0.95180, saving model to best_weights.keras\n",
      "998/998 [==============================] - 7s 7ms/step - loss: 0.1144 - binary_accuracy: 0.9776 - mcc: 0.9548 - val_loss: 0.1036 - val_binary_accuracy: 0.9761 - val_mcc: 0.9518 - lr: 0.0010\n",
      "Epoch 10/60\n",
      "991/998 [============================>.] - ETA: 0s - loss: 0.1111 - binary_accuracy: 0.9782 - mcc: 0.9561\n",
      "Epoch 10: val_mcc did not improve from 0.95180\n",
      "998/998 [==============================] - 7s 7ms/step - loss: 0.1111 - binary_accuracy: 0.9782 - mcc: 0.9560 - val_loss: 0.1365 - val_binary_accuracy: 0.9641 - val_mcc: 0.9277 - lr: 0.0010\n",
      "Epoch 11/60\n",
      "996/998 [============================>.] - ETA: 0s - loss: 0.1098 - binary_accuracy: 0.9783 - mcc: 0.9563\n",
      "Epoch 11: val_mcc did not improve from 0.95180\n",
      "998/998 [==============================] - 7s 7ms/step - loss: 0.1098 - binary_accuracy: 0.9783 - mcc: 0.9564 - val_loss: 0.1802 - val_binary_accuracy: 0.9538 - val_mcc: 0.9073 - lr: 0.0010\n",
      "Epoch 12/60\n",
      "997/998 [============================>.] - ETA: 0s - loss: 0.1095 - binary_accuracy: 0.9784 - mcc: 0.9564\n",
      "Epoch 12: val_mcc did not improve from 0.95180\n",
      "998/998 [==============================] - 7s 7ms/step - loss: 0.1095 - binary_accuracy: 0.9784 - mcc: 0.9564 - val_loss: 0.2112 - val_binary_accuracy: 0.9353 - val_mcc: 0.8734 - lr: 0.0010\n",
      "Epoch 13/60\n",
      "997/998 [============================>.] - ETA: 0s - loss: 0.1079 - binary_accuracy: 0.9787 - mcc: 0.9570\n",
      "Epoch 13: val_mcc did not improve from 0.95180\n",
      "998/998 [==============================] - 7s 7ms/step - loss: 0.1079 - binary_accuracy: 0.9787 - mcc: 0.9570 - val_loss: 0.2482 - val_binary_accuracy: 0.9263 - val_mcc: 0.8541 - lr: 0.0010\n",
      "Epoch 14/60\n",
      "991/998 [============================>.] - ETA: 0s - loss: 0.1065 - binary_accuracy: 0.9788 - mcc: 0.9572\n",
      "Epoch 14: val_mcc improved from 0.95180 to 0.95194, saving model to best_weights.keras\n",
      "998/998 [==============================] - 7s 7ms/step - loss: 0.1065 - binary_accuracy: 0.9788 - mcc: 0.9572 - val_loss: 0.1049 - val_binary_accuracy: 0.9761 - val_mcc: 0.9519 - lr: 0.0010\n",
      "Epoch 15/60\n",
      "998/998 [==============================] - ETA: 0s - loss: 0.1061 - binary_accuracy: 0.9788 - mcc: 0.9572\n",
      "Epoch 15: val_mcc did not improve from 0.95194\n",
      "998/998 [==============================] - 7s 7ms/step - loss: 0.1061 - binary_accuracy: 0.9788 - mcc: 0.9572 - val_loss: 0.1686 - val_binary_accuracy: 0.9487 - val_mcc: 0.8963 - lr: 0.0010\n",
      "Epoch 16/60\n",
      "996/998 [============================>.] - ETA: 0s - loss: 0.1064 - binary_accuracy: 0.9788 - mcc: 0.9573\n",
      "Epoch 16: val_mcc did not improve from 0.95194\n",
      "998/998 [==============================] - 7s 7ms/step - loss: 0.1064 - binary_accuracy: 0.9788 - mcc: 0.9573 - val_loss: 0.2848 - val_binary_accuracy: 0.9205 - val_mcc: 0.8446 - lr: 0.0010\n",
      "Epoch 17/60\n",
      "996/998 [============================>.] - ETA: 0s - loss: 0.1058 - binary_accuracy: 0.9790 - mcc: 0.9576\n",
      "Epoch 17: val_mcc did not improve from 0.95194\n",
      "998/998 [==============================] - 7s 7ms/step - loss: 0.1058 - binary_accuracy: 0.9790 - mcc: 0.9576 - val_loss: 0.1865 - val_binary_accuracy: 0.9516 - val_mcc: 0.9024 - lr: 0.0010\n",
      "Epoch 18/60\n",
      "997/998 [============================>.] - ETA: 0s - loss: 0.1046 - binary_accuracy: 0.9793 - mcc: 0.9582\n",
      "Epoch 18: val_mcc improved from 0.95194 to 0.95282, saving model to best_weights.keras\n",
      "998/998 [==============================] - 7s 7ms/step - loss: 0.1046 - binary_accuracy: 0.9793 - mcc: 0.9582 - val_loss: 0.1021 - val_binary_accuracy: 0.9766 - val_mcc: 0.9528 - lr: 0.0010\n",
      "Epoch 19/60\n",
      "998/998 [==============================] - ETA: 0s - loss: 0.1044 - binary_accuracy: 0.9792 - mcc: 0.9580\n",
      "Epoch 19: val_mcc did not improve from 0.95282\n",
      "998/998 [==============================] - 7s 7ms/step - loss: 0.1044 - binary_accuracy: 0.9792 - mcc: 0.9580 - val_loss: 0.1361 - val_binary_accuracy: 0.9653 - val_mcc: 0.9305 - lr: 0.0010\n",
      "Epoch 20/60\n",
      "993/998 [============================>.] - ETA: 0s - loss: 0.1039 - binary_accuracy: 0.9793 - mcc: 0.9584\n",
      "Epoch 20: val_mcc did not improve from 0.95282\n",
      "998/998 [==============================] - 7s 7ms/step - loss: 0.1039 - binary_accuracy: 0.9793 - mcc: 0.9584 - val_loss: 0.1136 - val_binary_accuracy: 0.9724 - val_mcc: 0.9448 - lr: 0.0010\n",
      "Epoch 21/60\n",
      "991/998 [============================>.] - ETA: 0s - loss: 0.1041 - binary_accuracy: 0.9794 - mcc: 0.9584\n",
      "Epoch 21: val_mcc did not improve from 0.95282\n",
      "998/998 [==============================] - 7s 7ms/step - loss: 0.1041 - binary_accuracy: 0.9794 - mcc: 0.9584 - val_loss: 0.1065 - val_binary_accuracy: 0.9745 - val_mcc: 0.9485 - lr: 0.0010\n",
      "Epoch 22/60\n",
      "997/998 [============================>.] - ETA: 0s - loss: 0.1036 - binary_accuracy: 0.9793 - mcc: 0.9582\n",
      "Epoch 22: val_mcc did not improve from 0.95282\n",
      "998/998 [==============================] - 7s 7ms/step - loss: 0.1036 - binary_accuracy: 0.9793 - mcc: 0.9582 - val_loss: 0.1065 - val_binary_accuracy: 0.9743 - val_mcc: 0.9480 - lr: 0.0010\n",
      "Epoch 23/60\n",
      "992/998 [============================>.] - ETA: 0s - loss: 0.1037 - binary_accuracy: 0.9793 - mcc: 0.9583\n",
      "Epoch 23: val_mcc did not improve from 0.95282\n",
      "998/998 [==============================] - 7s 7ms/step - loss: 0.1036 - binary_accuracy: 0.9793 - mcc: 0.9583 - val_loss: 0.3296 - val_binary_accuracy: 0.9070 - val_mcc: 0.8203 - lr: 3.0000e-04\n",
      "Epoch 24/60\n",
      "991/998 [============================>.] - ETA: 0s - loss: 0.0940 - binary_accuracy: 0.9817 - mcc: 0.9632\n",
      "Epoch 24: val_mcc improved from 0.95282 to 0.97343, saving model to best_weights.keras\n",
      "998/998 [==============================] - 6s 6ms/step - loss: 0.0940 - binary_accuracy: 0.9817 - mcc: 0.9632 - val_loss: 0.0706 - val_binary_accuracy: 0.9868 - val_mcc: 0.9734 - lr: 3.0000e-04\n",
      "Epoch 25/60\n",
      "995/998 [============================>.] - ETA: 0s - loss: 0.0917 - binary_accuracy: 0.9821 - mcc: 0.9639\n",
      "Epoch 25: val_mcc did not improve from 0.97343\n",
      "998/998 [==============================] - 7s 7ms/step - loss: 0.0917 - binary_accuracy: 0.9821 - mcc: 0.9639 - val_loss: 0.0760 - val_binary_accuracy: 0.9844 - val_mcc: 0.9685 - lr: 3.0000e-04\n",
      "Epoch 26/60\n",
      "994/998 [============================>.] - ETA: 0s - loss: 0.0878 - binary_accuracy: 0.9830 - mcc: 0.9658\n",
      "Epoch 26: val_mcc improved from 0.97343 to 0.97604, saving model to best_weights.keras\n",
      "998/998 [==============================] - 7s 7ms/step - loss: 0.0878 - binary_accuracy: 0.9830 - mcc: 0.9658 - val_loss: 0.0652 - val_binary_accuracy: 0.9881 - val_mcc: 0.9760 - lr: 2.4626e-05\n",
      "Epoch 27/60\n",
      "994/998 [============================>.] - ETA: 0s - loss: 0.0870 - binary_accuracy: 0.9832 - mcc: 0.9662\n",
      "Epoch 27: val_mcc improved from 0.97604 to 0.97638, saving model to best_weights.keras\n",
      "998/998 [==============================] - 7s 7ms/step - loss: 0.0870 - binary_accuracy: 0.9832 - mcc: 0.9662 - val_loss: 0.0650 - val_binary_accuracy: 0.9883 - val_mcc: 0.9764 - lr: 1.8290e-06\n",
      "Epoch 28/60\n",
      "996/998 [============================>.] - ETA: 0s - loss: 0.0869 - binary_accuracy: 0.9832 - mcc: 0.9661\n",
      "Epoch 28: val_mcc improved from 0.97638 to 0.97639, saving model to best_weights.keras\n",
      "998/998 [==============================] - 7s 7ms/step - loss: 0.0869 - binary_accuracy: 0.9832 - mcc: 0.9661 - val_loss: 0.0650 - val_binary_accuracy: 0.9883 - val_mcc: 0.9764 - lr: 1.2292e-07\n",
      "Epoch 29/60\n",
      "988/998 [============================>.] - ETA: 0s - loss: 0.0870 - binary_accuracy: 0.9833 - mcc: 0.9663\n",
      "Epoch 29: val_mcc improved from 0.97639 to 0.97641, saving model to best_weights.keras\n",
      "998/998 [==============================] - 7s 7ms/step - loss: 0.0870 - binary_accuracy: 0.9833 - mcc: 0.9663 - val_loss: 0.0650 - val_binary_accuracy: 0.9883 - val_mcc: 0.9764 - lr: 7.4748e-09\n",
      "Epoch 30/60\n",
      "994/998 [============================>.] - ETA: 0s - loss: 0.0868 - binary_accuracy: 0.9833 - mcc: 0.9663\n",
      "Epoch 30: val_mcc did not improve from 0.97641\n",
      "998/998 [==============================] - 7s 7ms/step - loss: 0.0868 - binary_accuracy: 0.9833 - mcc: 0.9663 - val_loss: 0.0650 - val_binary_accuracy: 0.9883 - val_mcc: 0.9764 - lr: 4.1129e-10\n",
      "Epoch 31/60\n",
      "994/998 [============================>.] - ETA: 0s - loss: 0.0869 - binary_accuracy: 0.9832 - mcc: 0.9661\n",
      "Epoch 31: val_mcc did not improve from 0.97641\n",
      "998/998 [==============================] - 7s 7ms/step - loss: 0.0869 - binary_accuracy: 0.9832 - mcc: 0.9661 - val_loss: 0.0650 - val_binary_accuracy: 0.9883 - val_mcc: 0.9764 - lr: 2.0477e-11\n",
      "Epoch 32/60\n",
      "995/998 [============================>.] - ETA: 0s - loss: 0.0871 - binary_accuracy: 0.9833 - mcc: 0.9663\n",
      "Epoch 32: val_mcc did not improve from 0.97641\n",
      "998/998 [==============================] - 7s 7ms/step - loss: 0.0870 - binary_accuracy: 0.9833 - mcc: 0.9663 - val_loss: 0.0650 - val_binary_accuracy: 0.9883 - val_mcc: 0.9764 - lr: 2.7674e-13\n",
      "Epoch 33/60\n",
      "997/998 [============================>.] - ETA: 0s - loss: 0.0870 - binary_accuracy: 0.9833 - mcc: 0.9663\n",
      "Epoch 33: val_mcc did not improve from 0.97641\n",
      "998/998 [==============================] - 7s 7ms/step - loss: 0.0870 - binary_accuracy: 0.9833 - mcc: 0.9663 - val_loss: 0.0650 - val_binary_accuracy: 0.9883 - val_mcc: 0.9764 - lr: 1.1280e-14\n",
      "Epoch 34/60\n",
      "998/998 [==============================] - ETA: 0s - loss: 0.0872 - binary_accuracy: 0.9832 - mcc: 0.9661\n",
      "Epoch 34: val_mcc did not improve from 0.97641\n",
      "998/998 [==============================] - 7s 7ms/step - loss: 0.0872 - binary_accuracy: 0.9832 - mcc: 0.9661 - val_loss: 0.0650 - val_binary_accuracy: 0.9883 - val_mcc: 0.9764 - lr: 4.1606e-16\n",
      "Epoch 35/60\n",
      "992/998 [============================>.] - ETA: 0s - loss: 0.0868 - binary_accuracy: 0.9833 - mcc: 0.9663\n",
      "Epoch 35: val_mcc did not improve from 0.97641\n",
      "998/998 [==============================] - 7s 7ms/step - loss: 0.0868 - binary_accuracy: 0.9832 - mcc: 0.9662 - val_loss: 0.0650 - val_binary_accuracy: 0.9883 - val_mcc: 0.9764 - lr: 1.3885e-17\n",
      "Epoch 36/60\n",
      "995/998 [============================>.] - ETA: 0s - loss: 0.0870 - binary_accuracy: 0.9832 - mcc: 0.9661\n",
      "Epoch 36: val_mcc did not improve from 0.97641\n",
      "998/998 [==============================] - 7s 7ms/step - loss: 0.0870 - binary_accuracy: 0.9832 - mcc: 0.9661 - val_loss: 0.0650 - val_binary_accuracy: 0.9883 - val_mcc: 0.9764 - lr: 4.1930e-19\n",
      "Epoch 37/60\n",
      "991/998 [============================>.] - ETA: 0s - loss: 0.0871 - binary_accuracy: 0.9832 - mcc: 0.9661\n",
      "Epoch 37: val_mcc did not improve from 0.97641\n",
      "998/998 [==============================] - 7s 7ms/step - loss: 0.0871 - binary_accuracy: 0.9832 - mcc: 0.9662 - val_loss: 0.0650 - val_binary_accuracy: 0.9883 - val_mcc: 0.9764 - lr: 3.4370e-21\n",
      "Epoch 38/60\n",
      "989/998 [============================>.] - ETA: 0s - loss: 0.0872 - binary_accuracy: 0.9832 - mcc: 0.9661\n",
      "Epoch 38: val_mcc did not improve from 0.97641\n",
      "998/998 [==============================] - 7s 7ms/step - loss: 0.0872 - binary_accuracy: 0.9832 - mcc: 0.9661 - val_loss: 0.0650 - val_binary_accuracy: 0.9883 - val_mcc: 0.9764 - lr: 8.4976e-23\n",
      "Epoch 39/60\n",
      "991/998 [============================>.] - ETA: 0s - loss: 0.0871 - binary_accuracy: 0.9832 - mcc: 0.9661\n",
      "Epoch 39: val_mcc did not improve from 0.97641\n",
      "998/998 [==============================] - 7s 7ms/step - loss: 0.0871 - binary_accuracy: 0.9832 - mcc: 0.9661 - val_loss: 0.0650 - val_binary_accuracy: 0.9883 - val_mcc: 0.9764 - lr: 1.9010e-24\n"
     ]
    }
   ],
   "source": [
    "def lr_schedule(epoch, lr):\n",
    "    if epoch < 25:\n",
    "        return lr\n",
    "    return lr * np.exp(-0.1 * epoch)\n",
    "\n",
    "checkpoint = ModelCheckpoint(\n",
    "    'best_weights.keras',  \n",
    "    monitor='val_mcc', \n",
    "    save_best_only=True,  \n",
    "    mode='max',        \n",
    "    verbose=1      \n",
    ")\n",
    "\n",
    "lr_scheduler = LearningRateScheduler(lr_schedule)\n",
    "tf.random.set_seed(1)\n",
    "\n",
    "r = model.fit(\n",
    "    X, \n",
    "    y, \n",
    "    epochs=60,  \n",
    "    batch_size=2500,  \n",
    "    validation_split=0.2, \n",
    "    callbacks=[\n",
    "        ReduceLROnPlateau(patience=5, monitor='val_mcc', factor=0.3, mode='max'),  \n",
    "        lr_scheduler,\n",
    "        EarlyStopping(monitor='binary_accuracy', patience=10, min_delta=0.00003, mode='max'),\n",
    "        checkpoint\n",
    "    ]\n",
    ")"
   ]
  },
  {
   "cell_type": "code",
   "execution_count": 20,
   "id": "f29c0927",
   "metadata": {
    "papermill": {
     "duration": 0.61242,
     "end_time": "2024-08-17T11:44:54.325710",
     "exception": false,
     "start_time": "2024-08-17T11:44:53.713290",
     "status": "completed"
    },
    "tags": []
   },
   "outputs": [],
   "source": [
    "model.load_weights('best_weights.keras')"
   ]
  },
  {
   "cell_type": "code",
   "execution_count": 21,
   "id": "471329a7",
   "metadata": {
    "papermill": {
     "duration": 374.397747,
     "end_time": "2024-08-17T11:51:09.158955",
     "exception": false,
     "start_time": "2024-08-17T11:44:54.761208",
     "status": "completed"
    },
    "tags": []
   },
   "outputs": [
    {
     "name": "stdout",
     "output_type": "stream",
     "text": [
      "97405/97405 [==============================] - 118s 1ms/step\n",
      "[LightGBM] [Info] Number of positive: 1705396, number of negative: 1411549\n",
      "[LightGBM] [Info] Auto-choosing row-wise multi-threading, the overhead of testing was 0.047127 seconds.\n",
      "You can set `force_row_wise=true` to remove the overhead.\n",
      "And if memory is not enough, you can set `force_col_wise=true`.\n",
      "[LightGBM] [Info] Total Bins 942\n",
      "[LightGBM] [Info] Number of data points in the train set: 3116945, number of used features: 16\n",
      "[LightGBM] [Info] [binary:BoostFromScore]: pavg=0.547137 -> initscore=0.189110\n",
      "[LightGBM] [Info] Start training from score 0.189110\n",
      "Final MCC: 0.98779886691273\n"
     ]
    }
   ],
   "source": [
    "nn_preds = model.predict(X)\n",
    "\n",
    "xgb_model = xgb.XGBClassifier(colsample_bytree=0.5, learning_rate=0.1, max_depth=14, min_child_weight=1, n_estimators=200, subsample=0.9, use_label_encoder=False, eval_metric='mlogloss', tree_meth='gpu_hist')\n",
    "xgb_model.fit(X, y)\n",
    "\n",
    "xgb_preds = xgb_model.predict(X)\n",
    "\n",
    "lgb_model = lgb.LGBMClassifier()\n",
    "lgb_model.fit(X, y)\n",
    "\n",
    "lgb_preds = lgb_model.predict(X)\n",
    "\n",
    "final_input = np.column_stack((nn_preds, xgb_preds, lgb_preds))\n",
    "\n",
    "final_model = LogisticRegression()\n",
    "final_model.fit(final_input, y)\n",
    "\n",
    "final_preds = final_model.predict(final_input)\n",
    "mcc = matthews_corrcoef(y, final_preds)\n",
    "print(\"Final MCC:\", mcc)"
   ]
  },
  {
   "cell_type": "markdown",
   "id": "e9007789",
   "metadata": {
    "papermill": {
     "duration": 0.727457,
     "end_time": "2024-08-17T11:51:10.567759",
     "exception": false,
     "start_time": "2024-08-17T11:51:09.840302",
     "status": "completed"
    },
    "tags": []
   },
   "source": [
    "## Predicting"
   ]
  },
  {
   "cell_type": "code",
   "execution_count": 22,
   "id": "489d7e66",
   "metadata": {
    "papermill": {
     "duration": 170.401752,
     "end_time": "2024-08-17T11:54:01.637234",
     "exception": false,
     "start_time": "2024-08-17T11:51:11.235482",
     "status": "completed"
    },
    "tags": []
   },
   "outputs": [
    {
     "name": "stdout",
     "output_type": "stream",
     "text": [
      "64937/64937 [==============================] - 73s 1ms/step\n"
     ]
    }
   ],
   "source": [
    "nn_test_preds = model.predict(test).reshape(-1)\n",
    "xgb_test_preds = xgb_model.predict(test)\n",
    "lgb_test_preds = lgb_model.predict(test)\n",
    "\n",
    "final_test_input = np.column_stack((nn_test_preds, xgb_test_preds, lgb_test_preds))\n",
    "\n",
    "preds = final_model.predict(final_test_input)"
   ]
  },
  {
   "cell_type": "code",
   "execution_count": 23,
   "id": "7cb34062",
   "metadata": {
    "papermill": {
     "duration": 0.853574,
     "end_time": "2024-08-17T11:54:03.420582",
     "exception": false,
     "start_time": "2024-08-17T11:54:02.567008",
     "status": "completed"
    },
    "tags": []
   },
   "outputs": [
    {
     "data": {
      "text/plain": [
       "array([0, 1, 1, ..., 1, 0, 0])"
      ]
     },
     "execution_count": 23,
     "metadata": {},
     "output_type": "execute_result"
    }
   ],
   "source": [
    "preds"
   ]
  },
  {
   "cell_type": "code",
   "execution_count": 24,
   "id": "05ffee93",
   "metadata": {
    "papermill": {
     "duration": 0.880508,
     "end_time": "2024-08-17T11:54:05.220014",
     "exception": false,
     "start_time": "2024-08-17T11:54:04.339506",
     "status": "completed"
    },
    "tags": []
   },
   "outputs": [
    {
     "data": {
      "text/plain": [
       "array(['e', 'p', 'p', ..., 'p', 'e', 'e'], dtype=object)"
      ]
     },
     "execution_count": 24,
     "metadata": {},
     "output_type": "execute_result"
    }
   ],
   "source": [
    "binary_preds = le.inverse_transform(preds.flatten())\n",
    "binary_preds"
   ]
  },
  {
   "cell_type": "code",
   "execution_count": 25,
   "id": "5a0267d7",
   "metadata": {
    "papermill": {
     "duration": 3.320265,
     "end_time": "2024-08-17T11:54:09.390550",
     "exception": false,
     "start_time": "2024-08-17T11:54:06.070285",
     "status": "completed"
    },
    "tags": []
   },
   "outputs": [
    {
     "name": "stdout",
     "output_type": "stream",
     "text": [
      "{'e': 1001332, 'p': 1076632}\n"
     ]
    }
   ],
   "source": [
    "unique_values, counts = np.unique(binary_preds, return_counts=True)\n",
    "\n",
    "value_counts = dict(zip(unique_values, counts))\n",
    "\n",
    "print(value_counts)"
   ]
  },
  {
   "cell_type": "code",
   "execution_count": 26,
   "id": "99a7198e",
   "metadata": {
    "papermill": {
     "duration": 0.924696,
     "end_time": "2024-08-17T11:54:11.133014",
     "exception": false,
     "start_time": "2024-08-17T11:54:10.208318",
     "status": "completed"
    },
    "tags": []
   },
   "outputs": [],
   "source": [
    "bp = pd.DataFrame(binary_preds, columns=['class'])"
   ]
  },
  {
   "cell_type": "code",
   "execution_count": 27,
   "id": "73be5bfe",
   "metadata": {
    "papermill": {
     "duration": 2.07048,
     "end_time": "2024-08-17T11:54:14.025700",
     "exception": false,
     "start_time": "2024-08-17T11:54:11.955220",
     "status": "completed"
    },
    "tags": []
   },
   "outputs": [
    {
     "data": {
      "text/plain": [
       "<Axes: >"
      ]
     },
     "execution_count": 27,
     "metadata": {},
     "output_type": "execute_result"
    },
    {
     "data": {
      "image/png": "[encoded data removed]",
      "text/plain": [
       "<Figure size 640x480 with 1 Axes>"
      ]
     },
     "metadata": {},
     "output_type": "display_data"
    }
   ],
   "source": [
    "bp['class'].hist()"
   ]
  },
  {
   "cell_type": "code",
   "execution_count": 28,
   "id": "cedffd24",
   "metadata": {
    "papermill": {
     "duration": 8.690747,
     "end_time": "2024-08-17T11:54:23.551245",
     "exception": false,
     "start_time": "2024-08-17T11:54:14.860498",
     "status": "completed"
    },
    "tags": []
   },
   "outputs": [],
   "source": [
    "sample = pd.read_csv('test.csv')\n",
    "binary_predictions_df = pd.concat([sample[['id']], bp['class']], axis=1)\n",
    "binary_predictions_df.to_csv('binary_preds.csv', index = None)"
   ]
  }
 ],
 "metadata": {
  "kaggle": {
   "accelerator": "gpu",
   "dataSources": [
    {
     "databundleVersionId": 9045607,
     "sourceId": 76727,
     "sourceType": "competition"
    }
   ],
   "dockerImageVersionId": 30748,
   "isGpuEnabled": true,
   "isInternetEnabled": true,
   "language": "python",
   "sourceType": "notebook"
  },
  "kernelspec": {
   "display_name": "Python 3 (ipykernel)",
   "language": "python",
   "name": "python3"
  },
  "language_info": {
   "codemirror_mode": {
    "name": "ipython",
    "version": 3
   },
   "file_extension": ".py",
   "mimetype": "text/x-python",
   "name": "python",
   "nbconvert_exporter": "python",
   "pygments_lexer": "ipython3",
   "version": "3.8.19"
  },
  "papermill": {
   "default_parameters": {},
   "duration": 988.939989,
   "end_time": "2024-08-17T11:54:27.468453",
   "environment_variables": {},
   "exception": null,
   "input_path": "__notebook__.ipynb",
   "output_path": "__notebook__.ipynb",
   "parameters": {},
   "start_time": "2024-08-17T11:37:58.528464",
   "version": "2.5.0"
  }
 },
 "nbformat": 4,
 "nbformat_minor": 5
}
