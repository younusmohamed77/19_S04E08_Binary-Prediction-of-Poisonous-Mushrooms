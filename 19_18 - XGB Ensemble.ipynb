{
 "cells": [
  {
   "cell_type": "code",
   "execution_count": 1,
   "id": "035e487d",
   "metadata": {
    "papermill": {
     "duration": 5.794496,
     "end_time": "2024-08-24T03:02:00.019317",
     "exception": false,
     "start_time": "2024-08-24T03:01:54.224821",
     "status": "completed"
    },
    "tags": []
   },
   "outputs": [],
   "source": [
    "import numpy as np\n",
    "import pandas as pd\n",
    "import matplotlib.pyplot as plt\n",
    "import seaborn as sns\n",
    "import warnings\n",
    "\n",
    "warnings.filterwarnings(\"ignore\")\n",
    "\n",
    "from sklearn.impute import SimpleImputer\n",
    "from sklearn.model_selection import StratifiedKFold, train_test_split, cross_val_score, cross_validate\n",
    "from sklearn.metrics import matthews_corrcoef, f1_score, confusion_matrix, ConfusionMatrixDisplay, make_scorer\n",
    "from sklearn.preprocessing import StandardScaler, LabelEncoder\n",
    "from scipy.stats import mode\n",
    "\n",
    "from xgboost import XGBClassifier\n",
    "from catboost import CatBoostClassifier\n",
    "from lightgbm import LGBMClassifier"
   ]
  },
  {
   "cell_type": "code",
   "execution_count": 2,
   "id": "f46db949",
   "metadata": {
    "papermill": {
     "duration": 14.639949,
     "end_time": "2024-08-24T03:02:14.701743",
     "exception": false,
     "start_time": "2024-08-24T03:02:00.061794",
     "status": "completed"
    },
    "tags": []
   },
   "outputs": [],
   "source": [
    "train_df = pd.read_csv(\"train.csv\", index_col='id')\n",
    "test_df = pd.read_csv(\"test.csv\", index_col='id')"
   ]
  },
  {
   "cell_type": "code",
   "execution_count": 3,
   "id": "6f0dcf3b",
   "metadata": {
    "papermill": {
     "duration": 0.046392,
     "end_time": "2024-08-24T03:02:15.651072",
     "exception": false,
     "start_time": "2024-08-24T03:02:15.604680",
     "status": "completed"
    },
    "tags": []
   },
   "outputs": [
    {
     "data": {
      "text/html": [
       "<div>\n",
       "<style scoped>\n",
       "    .dataframe tbody tr th:only-of-type {\n",
       "        vertical-align: middle;\n",
       "    }\n",
       "\n",
       "    .dataframe tbody tr th {\n",
       "        vertical-align: top;\n",
       "    }\n",
       "\n",
       "    .dataframe thead th {\n",
       "        text-align: right;\n",
       "    }\n",
       "</style>\n",
       "<table border=\"1\" class=\"dataframe\">\n",
       "  <thead>\n",
       "    <tr style=\"text-align: right;\">\n",
       "      <th></th>\n",
       "      <th>class</th>\n",
       "      <th>cap-diameter</th>\n",
       "      <th>cap-shape</th>\n",
       "      <th>cap-surface</th>\n",
       "      <th>cap-color</th>\n",
       "      <th>does-bruise-or-bleed</th>\n",
       "      <th>gill-attachment</th>\n",
       "      <th>gill-spacing</th>\n",
       "      <th>gill-color</th>\n",
       "      <th>stem-height</th>\n",
       "      <th>...</th>\n",
       "      <th>stem-root</th>\n",
       "      <th>stem-surface</th>\n",
       "      <th>stem-color</th>\n",
       "      <th>veil-type</th>\n",
       "      <th>veil-color</th>\n",
       "      <th>has-ring</th>\n",
       "      <th>ring-type</th>\n",
       "      <th>spore-print-color</th>\n",
       "      <th>habitat</th>\n",
       "      <th>season</th>\n",
       "    </tr>\n",
       "    <tr>\n",
       "      <th>id</th>\n",
       "      <th></th>\n",
       "      <th></th>\n",
       "      <th></th>\n",
       "      <th></th>\n",
       "      <th></th>\n",
       "      <th></th>\n",
       "      <th></th>\n",
       "      <th></th>\n",
       "      <th></th>\n",
       "      <th></th>\n",
       "      <th></th>\n",
       "      <th></th>\n",
       "      <th></th>\n",
       "      <th></th>\n",
       "      <th></th>\n",
       "      <th></th>\n",
       "      <th></th>\n",
       "      <th></th>\n",
       "      <th></th>\n",
       "      <th></th>\n",
       "      <th></th>\n",
       "    </tr>\n",
       "  </thead>\n",
       "  <tbody>\n",
       "    <tr>\n",
       "      <th>0</th>\n",
       "      <td>e</td>\n",
       "      <td>8.80</td>\n",
       "      <td>f</td>\n",
       "      <td>s</td>\n",
       "      <td>u</td>\n",
       "      <td>f</td>\n",
       "      <td>a</td>\n",
       "      <td>c</td>\n",
       "      <td>w</td>\n",
       "      <td>4.51</td>\n",
       "      <td>...</td>\n",
       "      <td>NaN</td>\n",
       "      <td>NaN</td>\n",
       "      <td>w</td>\n",
       "      <td>NaN</td>\n",
       "      <td>NaN</td>\n",
       "      <td>f</td>\n",
       "      <td>f</td>\n",
       "      <td>NaN</td>\n",
       "      <td>d</td>\n",
       "      <td>a</td>\n",
       "    </tr>\n",
       "    <tr>\n",
       "      <th>1</th>\n",
       "      <td>p</td>\n",
       "      <td>4.51</td>\n",
       "      <td>x</td>\n",
       "      <td>h</td>\n",
       "      <td>o</td>\n",
       "      <td>f</td>\n",
       "      <td>a</td>\n",
       "      <td>c</td>\n",
       "      <td>n</td>\n",
       "      <td>4.79</td>\n",
       "      <td>...</td>\n",
       "      <td>NaN</td>\n",
       "      <td>y</td>\n",
       "      <td>o</td>\n",
       "      <td>NaN</td>\n",
       "      <td>NaN</td>\n",
       "      <td>t</td>\n",
       "      <td>z</td>\n",
       "      <td>NaN</td>\n",
       "      <td>d</td>\n",
       "      <td>w</td>\n",
       "    </tr>\n",
       "  </tbody>\n",
       "</table>\n",
       "<p>2 rows × 21 columns</p>\n",
       "</div>"
      ],
      "text/plain": [
       "   class  cap-diameter cap-shape cap-surface cap-color does-bruise-or-bleed  \\\n",
       "id                                                                            \n",
       "0      e          8.80         f           s         u                    f   \n",
       "1      p          4.51         x           h         o                    f   \n",
       "\n",
       "   gill-attachment gill-spacing gill-color  stem-height  ...  stem-root  \\\n",
       "id                                                       ...              \n",
       "0                a            c          w         4.51  ...        NaN   \n",
       "1                a            c          n         4.79  ...        NaN   \n",
       "\n",
       "   stem-surface stem-color veil-type veil-color has-ring ring-type  \\\n",
       "id                                                                   \n",
       "0           NaN          w       NaN        NaN        f         f   \n",
       "1             y          o       NaN        NaN        t         z   \n",
       "\n",
       "   spore-print-color habitat season  \n",
       "id                                   \n",
       "0                NaN       d      a  \n",
       "1                NaN       d      w  \n",
       "\n",
       "[2 rows x 21 columns]"
      ]
     },
     "execution_count": 3,
     "metadata": {},
     "output_type": "execute_result"
    }
   ],
   "source": [
    "train_df.head(2)"
   ]
  },
  {
   "cell_type": "code",
   "execution_count": 4,
   "id": "a4a04661",
   "metadata": {
    "papermill": {
     "duration": 0.036235,
     "end_time": "2024-08-24T03:02:15.701875",
     "exception": false,
     "start_time": "2024-08-24T03:02:15.665640",
     "status": "completed"
    },
    "tags": []
   },
   "outputs": [
    {
     "data": {
      "text/html": [
       "<div>\n",
       "<style scoped>\n",
       "    .dataframe tbody tr th:only-of-type {\n",
       "        vertical-align: middle;\n",
       "    }\n",
       "\n",
       "    .dataframe tbody tr th {\n",
       "        vertical-align: top;\n",
       "    }\n",
       "\n",
       "    .dataframe thead th {\n",
       "        text-align: right;\n",
       "    }\n",
       "</style>\n",
       "<table border=\"1\" class=\"dataframe\">\n",
       "  <thead>\n",
       "    <tr style=\"text-align: right;\">\n",
       "      <th></th>\n",
       "      <th>cap-diameter</th>\n",
       "      <th>cap-shape</th>\n",
       "      <th>cap-surface</th>\n",
       "      <th>cap-color</th>\n",
       "      <th>does-bruise-or-bleed</th>\n",
       "      <th>gill-attachment</th>\n",
       "      <th>gill-spacing</th>\n",
       "      <th>gill-color</th>\n",
       "      <th>stem-height</th>\n",
       "      <th>stem-width</th>\n",
       "      <th>stem-root</th>\n",
       "      <th>stem-surface</th>\n",
       "      <th>stem-color</th>\n",
       "      <th>veil-type</th>\n",
       "      <th>veil-color</th>\n",
       "      <th>has-ring</th>\n",
       "      <th>ring-type</th>\n",
       "      <th>spore-print-color</th>\n",
       "      <th>habitat</th>\n",
       "      <th>season</th>\n",
       "    </tr>\n",
       "    <tr>\n",
       "      <th>id</th>\n",
       "      <th></th>\n",
       "      <th></th>\n",
       "      <th></th>\n",
       "      <th></th>\n",
       "      <th></th>\n",
       "      <th></th>\n",
       "      <th></th>\n",
       "      <th></th>\n",
       "      <th></th>\n",
       "      <th></th>\n",
       "      <th></th>\n",
       "      <th></th>\n",
       "      <th></th>\n",
       "      <th></th>\n",
       "      <th></th>\n",
       "      <th></th>\n",
       "      <th></th>\n",
       "      <th></th>\n",
       "      <th></th>\n",
       "      <th></th>\n",
       "    </tr>\n",
       "  </thead>\n",
       "  <tbody>\n",
       "    <tr>\n",
       "      <th>3116945</th>\n",
       "      <td>8.64</td>\n",
       "      <td>x</td>\n",
       "      <td>NaN</td>\n",
       "      <td>n</td>\n",
       "      <td>t</td>\n",
       "      <td>NaN</td>\n",
       "      <td>NaN</td>\n",
       "      <td>w</td>\n",
       "      <td>11.13</td>\n",
       "      <td>17.12</td>\n",
       "      <td>b</td>\n",
       "      <td>NaN</td>\n",
       "      <td>w</td>\n",
       "      <td>u</td>\n",
       "      <td>w</td>\n",
       "      <td>t</td>\n",
       "      <td>g</td>\n",
       "      <td>NaN</td>\n",
       "      <td>d</td>\n",
       "      <td>a</td>\n",
       "    </tr>\n",
       "    <tr>\n",
       "      <th>3116946</th>\n",
       "      <td>6.90</td>\n",
       "      <td>o</td>\n",
       "      <td>t</td>\n",
       "      <td>o</td>\n",
       "      <td>f</td>\n",
       "      <td>NaN</td>\n",
       "      <td>c</td>\n",
       "      <td>y</td>\n",
       "      <td>1.27</td>\n",
       "      <td>10.75</td>\n",
       "      <td>NaN</td>\n",
       "      <td>NaN</td>\n",
       "      <td>n</td>\n",
       "      <td>NaN</td>\n",
       "      <td>NaN</td>\n",
       "      <td>f</td>\n",
       "      <td>f</td>\n",
       "      <td>NaN</td>\n",
       "      <td>d</td>\n",
       "      <td>a</td>\n",
       "    </tr>\n",
       "  </tbody>\n",
       "</table>\n",
       "</div>"
      ],
      "text/plain": [
       "         cap-diameter cap-shape cap-surface cap-color does-bruise-or-bleed  \\\n",
       "id                                                                           \n",
       "3116945          8.64         x         NaN         n                    t   \n",
       "3116946          6.90         o           t         o                    f   \n",
       "\n",
       "        gill-attachment gill-spacing gill-color  stem-height  stem-width  \\\n",
       "id                                                                         \n",
       "3116945             NaN          NaN          w        11.13       17.12   \n",
       "3116946             NaN            c          y         1.27       10.75   \n",
       "\n",
       "        stem-root stem-surface stem-color veil-type veil-color has-ring  \\\n",
       "id                                                                        \n",
       "3116945         b          NaN          w         u          w        t   \n",
       "3116946       NaN          NaN          n       NaN        NaN        f   \n",
       "\n",
       "        ring-type spore-print-color habitat season  \n",
       "id                                                  \n",
       "3116945         g               NaN       d      a  \n",
       "3116946         f               NaN       d      a  "
      ]
     },
     "execution_count": 4,
     "metadata": {},
     "output_type": "execute_result"
    }
   ],
   "source": [
    "test_df.head(2)"
   ]
  },
  {
   "cell_type": "code",
   "execution_count": 5,
   "id": "3e12e837",
   "metadata": {
    "papermill": {
     "duration": 0.022241,
     "end_time": "2024-08-24T03:02:52.416508",
     "exception": false,
     "start_time": "2024-08-24T03:02:52.394267",
     "status": "completed"
    },
    "tags": []
   },
   "outputs": [],
   "source": [
    "target = 'class'"
   ]
  },
  {
   "cell_type": "code",
   "execution_count": 6,
   "id": "c808100a",
   "metadata": {
    "papermill": {
     "duration": 0.738262,
     "end_time": "2024-08-24T03:02:53.170288",
     "exception": false,
     "start_time": "2024-08-24T03:02:52.432026",
     "status": "completed"
    },
    "tags": []
   },
   "outputs": [
    {
     "data": {
      "text/plain": [
       "['cap-diameter',\n",
       " 'cap-shape',\n",
       " 'cap-surface',\n",
       " 'cap-color',\n",
       " 'does-bruise-or-bleed',\n",
       " 'gill-attachment',\n",
       " 'gill-spacing',\n",
       " 'gill-color',\n",
       " 'stem-height',\n",
       " 'stem-width',\n",
       " 'stem-root',\n",
       " 'stem-surface',\n",
       " 'stem-color',\n",
       " 'veil-type',\n",
       " 'veil-color',\n",
       " 'has-ring',\n",
       " 'ring-type',\n",
       " 'spore-print-color',\n",
       " 'habitat',\n",
       " 'season']"
      ]
     },
     "execution_count": 6,
     "metadata": {},
     "output_type": "execute_result"
    }
   ],
   "source": [
    "features = train_df.drop(target, axis=1).columns.to_list()\n",
    "features"
   ]
  },
  {
   "cell_type": "code",
   "execution_count": 7,
   "id": "87b2c522",
   "metadata": {
    "papermill": {
     "duration": 3.852351,
     "end_time": "2024-08-24T03:02:57.038590",
     "exception": false,
     "start_time": "2024-08-24T03:02:53.186239",
     "status": "completed"
    },
    "tags": []
   },
   "outputs": [
    {
     "data": {
      "text/plain": [
       "['cap-surface',\n",
       " 'gill-spacing',\n",
       " 'stem-root',\n",
       " 'stem-surface',\n",
       " 'veil-type',\n",
       " 'veil-color',\n",
       " 'spore-print-color']"
      ]
     },
     "execution_count": 7,
     "metadata": {},
     "output_type": "execute_result"
    }
   ],
   "source": [
    "features_with_high_null_values = [feature for feature in features if (train_df[feature].isna().sum()/len(train_df)*100)>20]\n",
    "features_with_high_null_values"
   ]
  },
  {
   "cell_type": "code",
   "execution_count": 8,
   "id": "7a6dfb14",
   "metadata": {
    "papermill": {
     "duration": 3.032157,
     "end_time": "2024-08-24T03:03:00.086937",
     "exception": false,
     "start_time": "2024-08-24T03:02:57.054780",
     "status": "completed"
    },
    "tags": []
   },
   "outputs": [
    {
     "data": {
      "text/plain": [
       "['cap-shape',\n",
       " 'cap-surface',\n",
       " 'cap-color',\n",
       " 'does-bruise-or-bleed',\n",
       " 'gill-attachment',\n",
       " 'gill-spacing',\n",
       " 'gill-color',\n",
       " 'stem-root',\n",
       " 'stem-surface',\n",
       " 'stem-color',\n",
       " 'veil-type',\n",
       " 'veil-color',\n",
       " 'has-ring',\n",
       " 'ring-type',\n",
       " 'spore-print-color',\n",
       " 'habitat',\n",
       " 'season']"
      ]
     },
     "execution_count": 8,
     "metadata": {},
     "output_type": "execute_result"
    }
   ],
   "source": [
    "categorical_features = train_df[features].select_dtypes(include='object').columns.to_list()\n",
    "categorical_features"
   ]
  },
  {
   "cell_type": "code",
   "execution_count": 9,
   "id": "bead258d",
   "metadata": {
    "papermill": {
     "duration": 0.024514,
     "end_time": "2024-08-24T03:03:00.128043",
     "exception": false,
     "start_time": "2024-08-24T03:03:00.103529",
     "status": "completed"
    },
    "tags": []
   },
   "outputs": [
    {
     "data": {
      "text/plain": [
       "['stem-height', 'cap-diameter', 'stem-width']"
      ]
     },
     "execution_count": 9,
     "metadata": {},
     "output_type": "execute_result"
    }
   ],
   "source": [
    "numerical_features = list(set(features) - set(categorical_features))\n",
    "numerical_features"
   ]
  },
  {
   "cell_type": "code",
   "execution_count": 10,
   "id": "1c47b5ac",
   "metadata": {
    "papermill": {
     "duration": 20.999542,
     "end_time": "2024-08-24T03:03:21.143767",
     "exception": false,
     "start_time": "2024-08-24T03:03:00.144225",
     "status": "completed"
    },
    "tags": []
   },
   "outputs": [
    {
     "data": {
      "text/html": [
       "<div>\n",
       "<style scoped>\n",
       "    .dataframe tbody tr th:only-of-type {\n",
       "        vertical-align: middle;\n",
       "    }\n",
       "\n",
       "    .dataframe tbody tr th {\n",
       "        vertical-align: top;\n",
       "    }\n",
       "\n",
       "    .dataframe thead th {\n",
       "        text-align: right;\n",
       "    }\n",
       "</style>\n",
       "<table border=\"1\" class=\"dataframe\">\n",
       "  <thead>\n",
       "    <tr style=\"text-align: right;\">\n",
       "      <th></th>\n",
       "      <th>count</th>\n",
       "      <th>unique</th>\n",
       "      <th>top</th>\n",
       "      <th>freq</th>\n",
       "    </tr>\n",
       "  </thead>\n",
       "  <tbody>\n",
       "    <tr>\n",
       "      <th>cap-shape</th>\n",
       "      <td>5194838</td>\n",
       "      <td>108</td>\n",
       "      <td>x</td>\n",
       "      <td>2393975</td>\n",
       "    </tr>\n",
       "    <tr>\n",
       "      <th>cap-surface</th>\n",
       "      <td>4076982</td>\n",
       "      <td>114</td>\n",
       "      <td>t</td>\n",
       "      <td>767629</td>\n",
       "    </tr>\n",
       "    <tr>\n",
       "      <th>cap-color</th>\n",
       "      <td>5194884</td>\n",
       "      <td>109</td>\n",
       "      <td>n</td>\n",
       "      <td>2263849</td>\n",
       "    </tr>\n",
       "    <tr>\n",
       "      <th>does-bruise-or-bleed</th>\n",
       "      <td>5194891</td>\n",
       "      <td>29</td>\n",
       "      <td>f</td>\n",
       "      <td>4283405</td>\n",
       "    </tr>\n",
       "    <tr>\n",
       "      <th>gill-attachment</th>\n",
       "      <td>4321152</td>\n",
       "      <td>117</td>\n",
       "      <td>a</td>\n",
       "      <td>1076994</td>\n",
       "    </tr>\n",
       "    <tr>\n",
       "      <th>gill-spacing</th>\n",
       "      <td>3096879</td>\n",
       "      <td>66</td>\n",
       "      <td>c</td>\n",
       "      <td>2218030</td>\n",
       "    </tr>\n",
       "    <tr>\n",
       "      <th>gill-color</th>\n",
       "      <td>5194803</td>\n",
       "      <td>86</td>\n",
       "      <td>w</td>\n",
       "      <td>1552311</td>\n",
       "    </tr>\n",
       "    <tr>\n",
       "      <th>stem-root</th>\n",
       "      <td>599874</td>\n",
       "      <td>45</td>\n",
       "      <td>b</td>\n",
       "      <td>276382</td>\n",
       "    </tr>\n",
       "    <tr>\n",
       "      <th>stem-surface</th>\n",
       "      <td>1892560</td>\n",
       "      <td>87</td>\n",
       "      <td>s</td>\n",
       "      <td>546106</td>\n",
       "    </tr>\n",
       "    <tr>\n",
       "      <th>stem-color</th>\n",
       "      <td>5194850</td>\n",
       "      <td>88</td>\n",
       "      <td>w</td>\n",
       "      <td>1994002</td>\n",
       "    </tr>\n",
       "    <tr>\n",
       "      <th>veil-type</th>\n",
       "      <td>265871</td>\n",
       "      <td>24</td>\n",
       "      <td>u</td>\n",
       "      <td>265746</td>\n",
       "    </tr>\n",
       "    <tr>\n",
       "      <th>veil-color</th>\n",
       "      <td>627838</td>\n",
       "      <td>27</td>\n",
       "      <td>w</td>\n",
       "      <td>465502</td>\n",
       "    </tr>\n",
       "    <tr>\n",
       "      <th>has-ring</th>\n",
       "      <td>5194866</td>\n",
       "      <td>26</td>\n",
       "      <td>f</td>\n",
       "      <td>3946912</td>\n",
       "    </tr>\n",
       "    <tr>\n",
       "      <th>ring-type</th>\n",
       "      <td>4979834</td>\n",
       "      <td>47</td>\n",
       "      <td>f</td>\n",
       "      <td>4127370</td>\n",
       "    </tr>\n",
       "    <tr>\n",
       "      <th>spore-print-color</th>\n",
       "      <td>445610</td>\n",
       "      <td>43</td>\n",
       "      <td>k</td>\n",
       "      <td>178883</td>\n",
       "    </tr>\n",
       "    <tr>\n",
       "      <th>habitat</th>\n",
       "      <td>5194839</td>\n",
       "      <td>65</td>\n",
       "      <td>d</td>\n",
       "      <td>3627993</td>\n",
       "    </tr>\n",
       "    <tr>\n",
       "      <th>season</th>\n",
       "      <td>5194909</td>\n",
       "      <td>4</td>\n",
       "      <td>a</td>\n",
       "      <td>2572406</td>\n",
       "    </tr>\n",
       "  </tbody>\n",
       "</table>\n",
       "</div>"
      ],
      "text/plain": [
       "                        count unique top     freq\n",
       "cap-shape             5194838    108   x  2393975\n",
       "cap-surface           4076982    114   t   767629\n",
       "cap-color             5194884    109   n  2263849\n",
       "does-bruise-or-bleed  5194891     29   f  4283405\n",
       "gill-attachment       4321152    117   a  1076994\n",
       "gill-spacing          3096879     66   c  2218030\n",
       "gill-color            5194803     86   w  1552311\n",
       "stem-root              599874     45   b   276382\n",
       "stem-surface          1892560     87   s   546106\n",
       "stem-color            5194850     88   w  1994002\n",
       "veil-type              265871     24   u   265746\n",
       "veil-color             627838     27   w   465502\n",
       "has-ring              5194866     26   f  3946912\n",
       "ring-type             4979834     47   f  4127370\n",
       "spore-print-color      445610     43   k   178883\n",
       "habitat               5194839     65   d  3627993\n",
       "season                5194909      4   a  2572406"
      ]
     },
     "execution_count": 10,
     "metadata": {},
     "output_type": "execute_result"
    }
   ],
   "source": [
    "pd.concat([train_df, test_df])[categorical_features].describe(include='O').T"
   ]
  },
  {
   "cell_type": "code",
   "execution_count": 11,
   "id": "6b892a2d",
   "metadata": {
    "papermill": {
     "duration": 0.039969,
     "end_time": "2024-08-24T03:06:34.069234",
     "exception": false,
     "start_time": "2024-08-24T03:06:34.029265",
     "status": "completed"
    },
    "tags": []
   },
   "outputs": [],
   "source": [
    "def cleaner(df):\n",
    "    for col in categorical_features:\n",
    "        df[col] = df[col].fillna('missing')\n",
    "        df.loc[df[col].value_counts(dropna=False)[df[col]].values < 100, col] = \"noise\"\n",
    "        df[col] = df[col].astype('category')\n",
    "\n",
    "    return df"
   ]
  },
  {
   "cell_type": "code",
   "execution_count": 12,
   "id": "8ff35f61",
   "metadata": {
    "papermill": {
     "duration": 28.304257,
     "end_time": "2024-08-24T03:07:02.404620",
     "exception": false,
     "start_time": "2024-08-24T03:06:34.100363",
     "status": "completed"
    },
    "tags": []
   },
   "outputs": [],
   "source": [
    "train_df = cleaner(train_df)\n",
    "test_df = cleaner(test_df)"
   ]
  },
  {
   "cell_type": "code",
   "execution_count": 13,
   "id": "8cc3fe47",
   "metadata": {
    "papermill": {
     "duration": 0.102681,
     "end_time": "2024-08-24T03:07:02.540231",
     "exception": false,
     "start_time": "2024-08-24T03:07:02.437550",
     "status": "completed"
    },
    "tags": []
   },
   "outputs": [],
   "source": [
    "cap_diameter_mean = pd.concat([train_df['cap-diameter'], test_df['cap-diameter']]).mean(numeric_only=True)\n",
    "train_df['cap-diameter'].fillna(cap_diameter_mean, inplace=True)\n",
    "test_df['cap-diameter'].fillna(cap_diameter_mean, inplace=True)"
   ]
  },
  {
   "cell_type": "code",
   "execution_count": 14,
   "id": "fb47e392",
   "metadata": {
    "papermill": {
     "duration": 0.803267,
     "end_time": "2024-08-24T03:07:03.439617",
     "exception": false,
     "start_time": "2024-08-24T03:07:02.636350",
     "status": "completed"
    },
    "tags": []
   },
   "outputs": [],
   "source": [
    "X = train_df.copy()\n",
    "y = X.pop(target)\n",
    "\n",
    "lab_enc = LabelEncoder().fit(y)\n",
    "y = lab_enc.transform(y)"
   ]
  },
  {
   "cell_type": "code",
   "execution_count": 15,
   "id": "a54375c0",
   "metadata": {
    "papermill": {
     "duration": 0.043275,
     "end_time": "2024-08-24T03:07:03.515779",
     "exception": false,
     "start_time": "2024-08-24T03:07:03.472504",
     "status": "completed"
    },
    "tags": []
   },
   "outputs": [],
   "source": [
    "def model_report(estimator, X, y, cv=5):\n",
    "    print(\"=\"*80)\n",
    "    print(f\"    Model: {estimator.__class__.__name__}\")\n",
    "    print(\"=\"*80)\n",
    "    \n",
    "    X_train, X_test, y_train, y_test = train_test_split(X, y, train_size=1/cv, shuffle=True, stratify=y, random_state=42)\n",
    "    \n",
    "    estimator.fit(X_train, y_train)\n",
    "    y_pred = estimator.predict(X_test)\n",
    "    f1 = f1_score(y_test, y_pred)\n",
    "    mcc = matthews_corrcoef(y_test, y_pred)\n",
    "    print(f\"F1 Score : {f1.mean():.6f}\")\n",
    "    print(f\"MCC Score: {mcc.mean():.6f}\")\n",
    "    \n",
    "    ConfusionMatrixDisplay(confusion_matrix(y_test, y_pred)).plot()\n",
    "    plt.title(\"Confusion Matrix\")\n",
    "    plt.show()\n",
    "\n",
    "    print()"
   ]
  },
  {
   "cell_type": "code",
   "execution_count": 16,
   "id": "ff8f80f0",
   "metadata": {
    "papermill": {
     "duration": 0.042595,
     "end_time": "2024-08-24T03:07:03.590850",
     "exception": false,
     "start_time": "2024-08-24T03:07:03.548255",
     "status": "completed"
    },
    "tags": []
   },
   "outputs": [],
   "source": [
    "def model_trainer(model, X, y, n_splits=5, random_state=42):\n",
    "    skfold = StratifiedKFold(n_splits=n_splits, shuffle=True, random_state=random_state)\n",
    "    \n",
    "    oof_probs, oof_mccs = [], []\n",
    "    print(\"=\"*80)\n",
    "    print(f\"Training {model.__class__.__name__}\")\n",
    "    print(\"=\"*80, end=\"\\n\")\n",
    "    for fold, (train_idx, test_idx) in enumerate(skfold.split(X, y)):\n",
    "        X_train, y_train = X.iloc[train_idx, :], y[train_idx]\n",
    "        X_test, y_test = X.iloc[test_idx, :], y[test_idx]\n",
    "        \n",
    "        model.fit(X_train, y_train)\n",
    "        y_pred = model.predict(X_test)\n",
    "        \n",
    "        mcc = matthews_corrcoef(y_pred, y_test)\n",
    "        oof_mccs.append(mcc)\n",
    "        oof_probs.append(model.predict_proba(test_df))\n",
    "        print(f\"--- Fold {fold+1} MCC Score: {mcc:.6f}\")\n",
    "    print(f\"\\n---> Mean MCC Score: {np.mean(oof_mccs):.6f} \\xb1 {np.std(oof_mccs):.6f}\\n\\n\")\n",
    "    return oof_probs, oof_mccs"
   ]
  },
  {
   "cell_type": "markdown",
   "id": "8ebf0d75",
   "metadata": {
    "papermill": {
     "duration": 0.0316,
     "end_time": "2024-08-24T03:07:03.654900",
     "exception": false,
     "start_time": "2024-08-24T03:07:03.623300",
     "status": "completed"
    },
    "tags": []
   },
   "source": [
    "## Baseline Models"
   ]
  },
  {
   "cell_type": "code",
   "execution_count": 17,
   "id": "a41c01d1",
   "metadata": {
    "papermill": {
     "duration": 6.220431,
     "end_time": "2024-08-24T03:07:09.906497",
     "exception": false,
     "start_time": "2024-08-24T03:07:03.686066",
     "status": "completed"
    },
    "tags": []
   },
   "outputs": [
    {
     "name": "stdout",
     "output_type": "stream",
     "text": [
      "================================================================================\n",
      "    Model: XGBClassifier\n",
      "================================================================================\n",
      "F1 Score : 0.992358\n",
      "MCC Score: 0.983147\n"
     ]
    },
    {
     "data": {
      "image/png": "[encoded data removed]",
      "text/plain": [
       "<Figure size 640x480 with 2 Axes>"
      ]
     },
     "metadata": {},
     "output_type": "display_data"
    },
    {
     "name": "stdout",
     "output_type": "stream",
     "text": [
      "\n"
     ]
    }
   ],
   "source": [
    "xgb_clf = XGBClassifier(enable_categorical=True, device=\"cuda\", tree_method=\"hist\")\n",
    "\n",
    "model_report(xgb_clf, X, y)"
   ]
  },
  {
   "cell_type": "code",
   "execution_count": 18,
   "id": "347323b7",
   "metadata": {
    "papermill": {
     "duration": 112.871429,
     "end_time": "2024-08-24T03:09:02.811549",
     "exception": false,
     "start_time": "2024-08-24T03:07:09.940120",
     "status": "completed"
    },
    "tags": []
   },
   "outputs": [
    {
     "name": "stdout",
     "output_type": "stream",
     "text": [
      "================================================================================\n",
      "    Model: CatBoostClassifier\n",
      "================================================================================\n",
      "F1 Score : 0.992035\n",
      "MCC Score: 0.982434\n"
     ]
    },
    {
     "data": {
      "image/png": "[encoded data removed]",
      "text/plain": [
       "<Figure size 640x480 with 2 Axes>"
      ]
     },
     "metadata": {},
     "output_type": "display_data"
    },
    {
     "name": "stdout",
     "output_type": "stream",
     "text": [
      "\n"
     ]
    }
   ],
   "source": [
    "cat_clf = CatBoostClassifier(\n",
    "    cat_features=categorical_features,\n",
    "    verbose=False,\n",
    "    allow_writing_files=False,\n",
    "    task_type=\"GPU\"\n",
    ")\n",
    "\n",
    "model_report(cat_clf, X, y)"
   ]
  },
  {
   "cell_type": "code",
   "execution_count": 19,
   "id": "ec20a28b",
   "metadata": {
    "papermill": {
     "duration": 26.149595,
     "end_time": "2024-08-24T03:09:28.994847",
     "exception": false,
     "start_time": "2024-08-24T03:09:02.845252",
     "status": "completed"
    },
    "tags": []
   },
   "outputs": [
    {
     "name": "stdout",
     "output_type": "stream",
     "text": [
      "================================================================================\n",
      "    Model: LGBMClassifier\n",
      "================================================================================\n",
      "F1 Score : 0.991376\n",
      "MCC Score: 0.980989\n"
     ]
    },
    {
     "data": {
      "image/png": "[encoded data removed]",
      "text/plain": [
       "<Figure size 640x480 with 2 Axes>"
      ]
     },
     "metadata": {},
     "output_type": "display_data"
    },
    {
     "name": "stdout",
     "output_type": "stream",
     "text": [
      "\n"
     ]
    }
   ],
   "source": [
    "lgb_clf = LGBMClassifier(device='gpu', verbosity=-1)\n",
    "\n",
    "model_report(lgb_clf, X, y)"
   ]
  },
  {
   "cell_type": "code",
   "execution_count": 20,
   "id": "0b43d55f",
   "metadata": {
    "_kg_hide-input": false,
    "papermill": {
     "duration": 0.045682,
     "end_time": "2024-08-24T03:09:29.536339",
     "exception": false,
     "start_time": "2024-08-24T03:09:29.490657",
     "status": "completed"
    },
    "tags": []
   },
   "outputs": [],
   "source": [
    "xgb_params = {\n",
    "    'n_estimators': 2407,\n",
    "    'eta': 0.009462133032592785,\n",
    "    'gamma': 0.2865859948765318,\n",
    "    'max_depth': 31,\n",
    "    'min_child_weight': 47,\n",
    "    'subsample': 0.6956431754146083,\n",
    "    'colsample_bytree': 0.3670732604094118,\n",
    "    'grow_policy': 'lossguide',\n",
    "    'max_leaves': 73,\n",
    "    'enable_categorical': True,\n",
    "    'n_jobs': -1,\n",
    "    'device': 'cuda',\n",
    "    'tree_method': 'hist'\n",
    "} # 0.9844272567086021\n",
    "\n",
    "cat_params = {\n",
    "    'iterations': 1041,\n",
    "    'learning_rate': 0.08777255350163136,\n",
    "    'depth': 10,\n",
    "    'l2_leaf_reg': 0.1259643500248322,\n",
    "    'bootstrap_type': 'Bayesian',\n",
    "    'random_strength': 4.276181166674371e-08,\n",
    "    'bagging_temperature': 0.35995482350907326,\n",
    "    'od_type': 'Iter',\n",
    "    'od_wait': 39,\n",
    "    \"verbose\": False,\n",
    "    \"allow_writing_files\": False,\n",
    "    \"task_type\": 'GPU',\n",
    "    \"cat_features\": categorical_features\n",
    "} # 0.9841773055825763\n",
    "\n",
    "lgb_params = {\n",
    "    'n_estimators': 2500,\n",
    "    'random_state':42,\n",
    "    'max_bin':1024,\n",
    "    'colsample_bytree':0.6,\n",
    "    'reg_lambda': 80,\n",
    "#     'device': 'gpu',\n",
    "    'verbosity': -1\n",
    "}"
   ]
  },
  {
   "cell_type": "markdown",
   "id": "3e325b4a",
   "metadata": {
    "papermill": {
     "duration": 0.034418,
     "end_time": "2024-08-24T03:09:29.606173",
     "exception": false,
     "start_time": "2024-08-24T03:09:29.571755",
     "status": "completed"
    },
    "tags": []
   },
   "source": [
    "## Prediction"
   ]
  },
  {
   "cell_type": "code",
   "execution_count": 38,
   "id": "ad9a86d0",
   "metadata": {
    "execution": {
     "iopub.execute_input": "2024-08-24T03:09:29.676916Z",
     "iopub.status.busy": "2024-08-24T03:09:29.676546Z",
     "iopub.status.idle": "2024-08-24T04:18:57.416305Z",
     "shell.execute_reply": "2024-08-24T04:18:57.415343Z"
    },
    "papermill": {
     "duration": 4167.814516,
     "end_time": "2024-08-24T04:18:57.455357",
     "exception": false,
     "start_time": "2024-08-24T03:09:29.640841",
     "status": "completed"
    },
    "tags": []
   },
   "outputs": [
    {
     "name": "stdout",
     "output_type": "stream",
     "text": [
      "================================================================================\n",
      "Training LGBMClassifier\n",
      "================================================================================\n",
      "--- Fold 1 MCC Score: 0.985025\n",
      "--- Fold 2 MCC Score: 0.984989\n",
      "--- Fold 3 MCC Score: 0.984879\n",
      "--- Fold 4 MCC Score: 0.984977\n",
      "--- Fold 5 MCC Score: 0.984971\n",
      "\n",
      "---> Mean MCC Score: 0.984968 ± 0.000048\n",
      "\n",
      "\n"
     ]
    }
   ],
   "source": [
    "oof_probs = {}\n",
    "oof_probs['xgb'], _ = model_trainer(XGBClassifier(**xgb_params), X, y, random_state=101)\n",
    "oof_probs['cat'], _ = model_trainer(CatBoostClassifier(**cat_params), X, y, random_state=101)\n",
    "oof_probs['lgb'], _ = model_trainer(LGBMClassifier(**lgb_params), X, y, random_state=101)"
   ]
  },
  {
   "cell_type": "code",
   "execution_count": 39,
   "id": "a6e444df",
   "metadata": {
    "execution": {
     "iopub.execute_input": "2024-08-24T04:18:57.528849Z",
     "iopub.status.busy": "2024-08-24T04:18:57.528157Z",
     "iopub.status.idle": "2024-08-24T04:18:57.714343Z",
     "shell.execute_reply": "2024-08-24T04:18:57.713562Z"
    },
    "papermill": {
     "duration": 0.225316,
     "end_time": "2024-08-24T04:18:57.716619",
     "exception": false,
     "start_time": "2024-08-24T04:18:57.491303",
     "status": "completed"
    },
    "tags": []
   },
   "outputs": [],
   "source": [
    "oof_preds = {}\n",
    "for model in oof_probs.keys():\n",
    "    oof_preds[model] = np.argmax(np.mean(oof_probs[model], axis=0), axis=1)"
   ]
  },
  {
   "cell_type": "markdown",
   "id": "dc5f25b4",
   "metadata": {
    "papermill": {
     "duration": 0.03547,
     "end_time": "2024-08-24T04:18:57.789196",
     "exception": false,
     "start_time": "2024-08-24T04:18:57.753726",
     "status": "completed"
    },
    "tags": []
   },
   "source": [
    "# Submission"
   ]
  },
  {
   "cell_type": "code",
   "execution_count": 40,
   "id": "2ed36da8",
   "metadata": {
    "execution": {
     "iopub.execute_input": "2024-08-24T04:18:57.862326Z",
     "iopub.status.busy": "2024-08-24T04:18:57.862012Z",
     "iopub.status.idle": "2024-08-24T04:19:00.798557Z",
     "shell.execute_reply": "2024-08-24T04:19:00.797801Z"
    },
    "papermill": {
     "duration": 2.975932,
     "end_time": "2024-08-24T04:19:00.800796",
     "exception": false,
     "start_time": "2024-08-24T04:18:57.824864",
     "status": "completed"
    },
    "tags": []
   },
   "outputs": [],
   "source": [
    "sub = pd.read_csv(\"/kaggle/input/playground-series-s4e8/sample_submission.csv\")\n",
    "preds = [pred for model, pred in oof_preds.items()]\n",
    "md = mode(preds, axis=0)[0] if len(preds)>1 else preds[0]\n",
    "sub[target] = lab_enc.inverse_transform(md)\n",
    "sub.to_csv(\"submission.csv\", index=False)"
   ]
  },
  {
   "cell_type": "code",
   "execution_count": 41,
   "id": "aa336781",
   "metadata": {
    "_kg_hide-input": true,
    "execution": {
     "iopub.execute_input": "2024-08-24T04:19:00.874765Z",
     "iopub.status.busy": "2024-08-24T04:19:00.874432Z",
     "iopub.status.idle": "2024-08-24T04:19:03.520529Z",
     "shell.execute_reply": "2024-08-24T04:19:03.519500Z"
    },
    "papermill": {
     "duration": 2.68549,
     "end_time": "2024-08-24T04:19:03.522949",
     "exception": false,
     "start_time": "2024-08-24T04:19:00.837459",
     "status": "completed"
    },
    "tags": []
   },
   "outputs": [],
   "source": [
    "ext1 = pd.read_csv(\"/kaggle/input/mario-s-nightmare-15-th-place-solution/submission.csv\")[target].ravel()\n",
    "ext2 = pd.read_csv(\"/kaggle/input/ps4e8-binary-class-mathews-correlation-coeff/submission.csv\")[target].ravel()\n",
    "ext3 = pd.read_csv(\"/kaggle/input/playgrounds4e08-modeblend/submission.csv\")[target].ravel()\n",
    "ext4 = pd.read_csv(\"/kaggle/input/autogloun-t8-dslanders/submission.csv\")[target].ravel()\n",
    "ext5 = pd.read_csv(\"/kaggle/input/mario-s-nightmare-denselight-0-990/submission_test7.csv\")[target].ravel()"
   ]
  },
  {
   "cell_type": "code",
   "execution_count": 42,
   "id": "59e62217",
   "metadata": {
    "_kg_hide-input": true,
    "execution": {
     "iopub.execute_input": "2024-08-24T04:19:03.597112Z",
     "iopub.status.busy": "2024-08-24T04:19:03.596779Z",
     "iopub.status.idle": "2024-08-24T04:19:05.609799Z",
     "shell.execute_reply": "2024-08-24T04:19:05.609017Z"
    },
    "papermill": {
     "duration": 2.052197,
     "end_time": "2024-08-24T04:19:05.612172",
     "exception": false,
     "start_time": "2024-08-24T04:19:03.559975",
     "status": "completed"
    },
    "tags": []
   },
   "outputs": [],
   "source": [
    "preds = [ext1, ext2, ext3, ext4, ext5]\n",
    "\n",
    "preds = [lab_enc.transform(x) for x in preds]"
   ]
  },
  {
   "cell_type": "code",
   "execution_count": 43,
   "id": "d78c46c0",
   "metadata": {
    "_kg_hide-input": true,
    "execution": {
     "iopub.execute_input": "2024-08-24T04:19:05.685822Z",
     "iopub.status.busy": "2024-08-24T04:19:05.685489Z",
     "iopub.status.idle": "2024-08-24T04:20:49.148085Z",
     "shell.execute_reply": "2024-08-24T04:20:49.147082Z"
    },
    "papermill": {
     "duration": 103.501576,
     "end_time": "2024-08-24T04:20:49.150569",
     "exception": false,
     "start_time": "2024-08-24T04:19:05.648993",
     "status": "completed"
    },
    "tags": []
   },
   "outputs": [],
   "source": [
    "md = mode(preds, axis=0)[0]"
   ]
  },
  {
   "cell_type": "code",
   "execution_count": 44,
   "id": "a854d023",
   "metadata": {
    "_kg_hide-input": true,
    "execution": {
     "iopub.execute_input": "2024-08-24T04:20:49.274585Z",
     "iopub.status.busy": "2024-08-24T04:20:49.273772Z",
     "iopub.status.idle": "2024-08-24T04:20:51.687104Z",
     "shell.execute_reply": "2024-08-24T04:20:51.686116Z"
    },
    "papermill": {
     "duration": 2.502055,
     "end_time": "2024-08-24T04:20:51.689436",
     "exception": false,
     "start_time": "2024-08-24T04:20:49.187381",
     "status": "completed"
    },
    "tags": []
   },
   "outputs": [],
   "source": [
    "sub[target] = lab_enc.inverse_transform(md)\n",
    "sub.to_csv(\"submission.csv\", index=False)"
   ]
  }
 ],
 "metadata": {
  "kaggle": {
   "accelerator": "gpu",
   "dataSources": [
    {
     "databundleVersionId": 9045607,
     "sourceId": 76727,
     "sourceType": "competition"
    },
    {
     "datasetId": 2327251,
     "sourceId": 3918849,
     "sourceType": "datasetVersion"
    },
    {
     "sourceId": 192934997,
     "sourceType": "kernelVersion"
    },
    {
     "sourceId": 192988856,
     "sourceType": "kernelVersion"
    },
    {
     "sourceId": 193224738,
     "sourceType": "kernelVersion"
    },
    {
     "sourceId": 193240295,
     "sourceType": "kernelVersion"
    },
    {
     "sourceId": 193241746,
     "sourceType": "kernelVersion"
    }
   ],
   "dockerImageVersionId": 30746,
   "isGpuEnabled": true,
   "isInternetEnabled": true,
   "language": "python",
   "sourceType": "notebook"
  },
  "kernelspec": {
   "display_name": "Python 3 (ipykernel)",
   "language": "python",
   "name": "python3"
  },
  "language_info": {
   "codemirror_mode": {
    "name": "ipython",
    "version": 3
   },
   "file_extension": ".py",
   "mimetype": "text/x-python",
   "name": "python",
   "nbconvert_exporter": "python",
   "pygments_lexer": "ipython3",
   "version": "3.8.19"
  },
  "papermill": {
   "default_parameters": {},
   "duration": 4741.655985,
   "end_time": "2024-08-24T04:20:53.056250",
   "environment_variables": {},
   "exception": null,
   "input_path": "__notebook__.ipynb",
   "output_path": "__notebook__.ipynb",
   "parameters": {},
   "start_time": "2024-08-24T03:01:51.400265",
   "version": "2.5.0"
  }
 },
 "nbformat": 4,
 "nbformat_minor": 5
}
