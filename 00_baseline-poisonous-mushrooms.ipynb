{
 "cells": [
  {
   "cell_type": "markdown",
   "metadata": {},
   "source": [
    "# <p style=\"background-color: #ADEFD1FF; font-family: Pacifico, cursive; color: black; font-size: 150%; text-align: center; border-radius: 20px; padding: 10px 30px; display: block; width: 95%; margin: 0;\">Baseline ---> Poisonous Mushrooms🤖</p>"
   ]
  },
  {
   "cell_type": "code",
   "execution_count": 1,
   "metadata": {},
   "outputs": [],
   "source": [
    "import warnings\n",
    "warnings.filterwarnings(\"ignore\")\n",
    "\n",
    "import pandas as pd\n",
    "import numpy as np\n",
    "import seaborn as sns\n",
    "\n",
    "from sklearn.model_selection import *\n",
    "from sklearn.preprocessing import *\n",
    "\n",
    "from lightgbm import LGBMClassifier\n",
    "from catboost import CatBoostClassifier\n",
    "from xgboost import XGBClassifier\n",
    "\n",
    "from sklearn.metrics import *\n",
    "from sklearn.experimental import enable_iterative_imputer\n",
    "from sklearn.impute import IterativeImputer\n",
    "\n",
    "pd.set_option('display.max_columns', None)\n",
    "\n",
    "from sklearn.model_selection import StratifiedKFold\n",
    "import category_encoders as ce\n",
    "from sklearn.preprocessing import OrdinalEncoder\n",
    "from sklearn.metrics import matthews_corrcoef\n",
    "from collections import Counter\n",
    "import joblib\n",
    "\n",
    "\n",
    "n_splits = 10\n",
    "SEED = 42"
   ]
  },
  {
   "cell_type": "markdown",
   "metadata": {},
   "source": [
    "# <p style=\"background-color: #ADEFD1FF; font-family: Pacifico, cursive; color: black; font-size: 100%; text-align: left; border-radius: 20px; padding: 10px 30px; display: inline-block;\">📂 Load Data</p>"
   ]
  },
  {
   "cell_type": "code",
   "execution_count": 2,
   "metadata": {},
   "outputs": [
    {
     "name": "stdout",
     "output_type": "stream",
     "text": [
      "CPU times: total: 8.78 s\n",
      "Wall time: 9.75 s\n"
     ]
    }
   ],
   "source": [
    "%%time\n",
    "\n",
    "#% sample_sub = pd.read_csv('/kaggle/input/playground-series-s4e8/sample_submission.csv')\n",
    "\n",
    "train = pd.read_csv('train.csv')\n",
    "\n",
    "test = pd.read_csv('test.csv')\n",
    "\n",
    "# Original = pd.read_csv('/kaggle/input/mushroom-classification/mushrooms.csv')\n",
    "\n",
    "train.drop(columns=['id'], inplace=True)\n",
    "\n",
    "test.drop(columns=['id'], inplace=True)\n",
    "\n",
    "#train = pd.concat([train,Original])\n",
    "\n",
    "train = train [['cap-diameter', 'cap-shape', 'cap-surface', 'cap-color',\n",
    "       'does-bruise-or-bleed', 'gill-attachment', 'gill-spacing', 'gill-color',\n",
    "       'stem-height', 'stem-width', 'stem-root', 'stem-surface', 'stem-color',\n",
    "       'veil-type', 'veil-color', 'has-ring', 'ring-type', 'spore-print-color',\n",
    "       'habitat', 'season','class']]"
   ]
  },
  {
   "cell_type": "code",
   "execution_count": 3,
   "metadata": {},
   "outputs": [
    {
     "data": {
      "text/html": [
       "<div>\n",
       "<style scoped>\n",
       "    .dataframe tbody tr th:only-of-type {\n",
       "        vertical-align: middle;\n",
       "    }\n",
       "\n",
       "    .dataframe tbody tr th {\n",
       "        vertical-align: top;\n",
       "    }\n",
       "\n",
       "    .dataframe thead th {\n",
       "        text-align: right;\n",
       "    }\n",
       "</style>\n",
       "<table border=\"1\" class=\"dataframe\">\n",
       "  <thead>\n",
       "    <tr style=\"text-align: right;\">\n",
       "      <th></th>\n",
       "      <th>cap-diameter</th>\n",
       "      <th>cap-shape</th>\n",
       "      <th>cap-surface</th>\n",
       "      <th>cap-color</th>\n",
       "      <th>does-bruise-or-bleed</th>\n",
       "      <th>gill-attachment</th>\n",
       "      <th>gill-spacing</th>\n",
       "      <th>gill-color</th>\n",
       "      <th>stem-height</th>\n",
       "      <th>stem-width</th>\n",
       "      <th>stem-root</th>\n",
       "      <th>stem-surface</th>\n",
       "      <th>stem-color</th>\n",
       "      <th>veil-type</th>\n",
       "      <th>veil-color</th>\n",
       "      <th>has-ring</th>\n",
       "      <th>ring-type</th>\n",
       "      <th>spore-print-color</th>\n",
       "      <th>habitat</th>\n",
       "      <th>season</th>\n",
       "      <th>class</th>\n",
       "    </tr>\n",
       "  </thead>\n",
       "  <tbody>\n",
       "    <tr>\n",
       "      <th>0</th>\n",
       "      <td>8.80</td>\n",
       "      <td>f</td>\n",
       "      <td>s</td>\n",
       "      <td>u</td>\n",
       "      <td>f</td>\n",
       "      <td>a</td>\n",
       "      <td>c</td>\n",
       "      <td>w</td>\n",
       "      <td>4.51</td>\n",
       "      <td>15.39</td>\n",
       "      <td>NaN</td>\n",
       "      <td>NaN</td>\n",
       "      <td>w</td>\n",
       "      <td>NaN</td>\n",
       "      <td>NaN</td>\n",
       "      <td>f</td>\n",
       "      <td>f</td>\n",
       "      <td>NaN</td>\n",
       "      <td>d</td>\n",
       "      <td>a</td>\n",
       "      <td>e</td>\n",
       "    </tr>\n",
       "    <tr>\n",
       "      <th>1</th>\n",
       "      <td>4.51</td>\n",
       "      <td>x</td>\n",
       "      <td>h</td>\n",
       "      <td>o</td>\n",
       "      <td>f</td>\n",
       "      <td>a</td>\n",
       "      <td>c</td>\n",
       "      <td>n</td>\n",
       "      <td>4.79</td>\n",
       "      <td>6.48</td>\n",
       "      <td>NaN</td>\n",
       "      <td>y</td>\n",
       "      <td>o</td>\n",
       "      <td>NaN</td>\n",
       "      <td>NaN</td>\n",
       "      <td>t</td>\n",
       "      <td>z</td>\n",
       "      <td>NaN</td>\n",
       "      <td>d</td>\n",
       "      <td>w</td>\n",
       "      <td>p</td>\n",
       "    </tr>\n",
       "    <tr>\n",
       "      <th>2</th>\n",
       "      <td>6.94</td>\n",
       "      <td>f</td>\n",
       "      <td>s</td>\n",
       "      <td>b</td>\n",
       "      <td>f</td>\n",
       "      <td>x</td>\n",
       "      <td>c</td>\n",
       "      <td>w</td>\n",
       "      <td>6.85</td>\n",
       "      <td>9.93</td>\n",
       "      <td>NaN</td>\n",
       "      <td>s</td>\n",
       "      <td>n</td>\n",
       "      <td>NaN</td>\n",
       "      <td>NaN</td>\n",
       "      <td>f</td>\n",
       "      <td>f</td>\n",
       "      <td>NaN</td>\n",
       "      <td>l</td>\n",
       "      <td>w</td>\n",
       "      <td>e</td>\n",
       "    </tr>\n",
       "    <tr>\n",
       "      <th>3</th>\n",
       "      <td>3.88</td>\n",
       "      <td>f</td>\n",
       "      <td>y</td>\n",
       "      <td>g</td>\n",
       "      <td>f</td>\n",
       "      <td>s</td>\n",
       "      <td>NaN</td>\n",
       "      <td>g</td>\n",
       "      <td>4.16</td>\n",
       "      <td>6.53</td>\n",
       "      <td>NaN</td>\n",
       "      <td>NaN</td>\n",
       "      <td>w</td>\n",
       "      <td>NaN</td>\n",
       "      <td>NaN</td>\n",
       "      <td>f</td>\n",
       "      <td>f</td>\n",
       "      <td>NaN</td>\n",
       "      <td>d</td>\n",
       "      <td>u</td>\n",
       "      <td>e</td>\n",
       "    </tr>\n",
       "    <tr>\n",
       "      <th>4</th>\n",
       "      <td>5.85</td>\n",
       "      <td>x</td>\n",
       "      <td>l</td>\n",
       "      <td>w</td>\n",
       "      <td>f</td>\n",
       "      <td>d</td>\n",
       "      <td>NaN</td>\n",
       "      <td>w</td>\n",
       "      <td>3.37</td>\n",
       "      <td>8.36</td>\n",
       "      <td>NaN</td>\n",
       "      <td>NaN</td>\n",
       "      <td>w</td>\n",
       "      <td>NaN</td>\n",
       "      <td>NaN</td>\n",
       "      <td>f</td>\n",
       "      <td>f</td>\n",
       "      <td>NaN</td>\n",
       "      <td>g</td>\n",
       "      <td>a</td>\n",
       "      <td>e</td>\n",
       "    </tr>\n",
       "  </tbody>\n",
       "</table>\n",
       "</div>"
      ],
      "text/plain": [
       "   cap-diameter cap-shape cap-surface cap-color does-bruise-or-bleed  \\\n",
       "0          8.80         f           s         u                    f   \n",
       "1          4.51         x           h         o                    f   \n",
       "2          6.94         f           s         b                    f   \n",
       "3          3.88         f           y         g                    f   \n",
       "4          5.85         x           l         w                    f   \n",
       "\n",
       "  gill-attachment gill-spacing gill-color  stem-height  stem-width stem-root  \\\n",
       "0               a            c          w         4.51       15.39       NaN   \n",
       "1               a            c          n         4.79        6.48       NaN   \n",
       "2               x            c          w         6.85        9.93       NaN   \n",
       "3               s          NaN          g         4.16        6.53       NaN   \n",
       "4               d          NaN          w         3.37        8.36       NaN   \n",
       "\n",
       "  stem-surface stem-color veil-type veil-color has-ring ring-type  \\\n",
       "0          NaN          w       NaN        NaN        f         f   \n",
       "1            y          o       NaN        NaN        t         z   \n",
       "2            s          n       NaN        NaN        f         f   \n",
       "3          NaN          w       NaN        NaN        f         f   \n",
       "4          NaN          w       NaN        NaN        f         f   \n",
       "\n",
       "  spore-print-color habitat season class  \n",
       "0               NaN       d      a     e  \n",
       "1               NaN       d      w     p  \n",
       "2               NaN       l      w     e  \n",
       "3               NaN       d      u     e  \n",
       "4               NaN       g      a     e  "
      ]
     },
     "execution_count": 3,
     "metadata": {},
     "output_type": "execute_result"
    }
   ],
   "source": [
    "train.head()"
   ]
  },
  {
   "cell_type": "code",
   "execution_count": 4,
   "metadata": {},
   "outputs": [
    {
     "data": {
      "text/plain": [
       "cap-diameter                  4\n",
       "cap-shape                    40\n",
       "cap-surface              671023\n",
       "cap-color                    12\n",
       "does-bruise-or-bleed          8\n",
       "gill-attachment          523936\n",
       "gill-spacing            1258435\n",
       "gill-color                   57\n",
       "stem-height                   0\n",
       "stem-width                    0\n",
       "stem-root               2757023\n",
       "stem-surface            1980861\n",
       "stem-color                   38\n",
       "veil-type               2957493\n",
       "veil-color              2740947\n",
       "has-ring                     24\n",
       "ring-type                128880\n",
       "spore-print-color       2849682\n",
       "habitat                      45\n",
       "season                        0\n",
       "class                         0\n",
       "dtype: int64"
      ]
     },
     "execution_count": 4,
     "metadata": {},
     "output_type": "execute_result"
    }
   ],
   "source": [
    "train.isnull().sum()"
   ]
  },
  {
   "cell_type": "code",
   "execution_count": 5,
   "metadata": {},
   "outputs": [
    {
     "data": {
      "text/plain": [
       "cap-diameter                  7\n",
       "cap-shape                    31\n",
       "cap-surface              446904\n",
       "cap-color                    13\n",
       "does-bruise-or-bleed         10\n",
       "gill-attachment          349821\n",
       "gill-spacing             839595\n",
       "gill-color                   49\n",
       "stem-height                   1\n",
       "stem-width                    0\n",
       "stem-root               1838012\n",
       "stem-surface            1321488\n",
       "stem-color                   21\n",
       "veil-type               1971545\n",
       "veil-color              1826124\n",
       "has-ring                     19\n",
       "ring-type                 86195\n",
       "spore-print-color       1899617\n",
       "habitat                      25\n",
       "season                        0\n",
       "dtype: int64"
      ]
     },
     "execution_count": 5,
     "metadata": {},
     "output_type": "execute_result"
    }
   ],
   "source": [
    "test.isnull().sum()"
   ]
  },
  {
   "cell_type": "markdown",
   "metadata": {},
   "source": [
    "# <p style=\"background-color: #ADEFD1FF; font-family: Pacifico, cursive; color: black; font-size: 100%; text-align: left; border-radius: 20px; padding: 10px 30px; display: inline-block;\"> Null Value Handling and Preprocess Data 📊 🔍</p>"
   ]
  },
  {
   "cell_type": "code",
   "execution_count": 6,
   "metadata": {},
   "outputs": [
    {
     "name": "stdout",
     "output_type": "stream",
     "text": [
      "Dup Values in Train\n",
      "0\n",
      "------------------------\n",
      "Dup Values in Test\n",
      "0\n",
      "------------------------\n"
     ]
    }
   ],
   "source": [
    "print('Dup Values in Train')\n",
    "print(train.duplicated().sum())\n",
    "print('------------------------')\n",
    "\n",
    "print('Dup Values in Test')\n",
    "print(test.duplicated().sum())\n",
    "print('------------------------')"
   ]
  },
  {
   "cell_type": "code",
   "execution_count": 7,
   "metadata": {},
   "outputs": [],
   "source": [
    "# %%time\n",
    "\n",
    "'''For Numeric Null Values I prefer the iterative imputer and For The Cat_null Values I Prefer the\n",
    "Constant Imputation. Although The Tree Models and Gradient Models Can Handle The Null Values, But I Decied to Impute and\n",
    "Move Further.\n",
    "I Prefer The Ordinal Encoding For Data and Label Encoding For Target'''\n",
    "\n",
    "def handle_missing_values(train, test, seed=None):\n",
    "    \n",
    "    num_c = [col for col in train.columns if train[col].dtype in ['float64', 'int64']]\n",
    "    cat_c = [col for col in train.columns if train[col].dtype == 'object']\n",
    "    if 'class' in cat_c:\n",
    "        cat_c.remove('class')\n",
    "    \n",
    "    I = IterativeImputer(random_state=seed)\n",
    "    train[num_c] = I.fit_transform(train[num_c])\n",
    "    test[num_c] = I.transform(test[num_c])\n",
    "    \n",
    "    for col in cat_c:\n",
    "        train[col].fillna('No_Record', inplace=True)\n",
    "        test[col].fillna('No_Record', inplace=True)\n",
    "    \n",
    "    return train, test, cat_c\n",
    "\n",
    "train, test, cat_c = handle_missing_values(train, test, seed=SEED)\n",
    "\n",
    "# %%time\n",
    "\n",
    "def align_columns(train, test):\n",
    "\n",
    "    common_cols = train.columns.intersection(test.columns)\n",
    "    train = train[common_cols]\n",
    "    test = test[common_cols]\n",
    "    return train, test\n",
    "\n",
    "target = train['class']\n",
    "train_features = train.drop(columns=['class'], errors='ignore')\n",
    "\n",
    "train_features_aligned, test_features_aligned = align_columns(train_features, test)\n",
    "\n",
    "encoder = ce.OrdinalEncoder(cols=cat_c, handle_unknown='ignore')\n",
    "train = encoder.fit_transform(train_features_aligned)\n",
    "test = encoder.transform(test_features_aligned)\n",
    "\n",
    "train['class'] = target\n",
    "\n",
    "le = LabelEncoder()\n",
    "\n",
    "train['class'] = le.fit_transform(train['class'])\n"
   ]
  },
  {
   "cell_type": "markdown",
   "metadata": {},
   "source": [
    "# <p style=\"background-color: #ADEFD1FF; font-family: Pacifico, cursive; color: black; font-size: 100%; text-align: left; border-radius: 20px; padding: 10px 30px; display: inline-block;\"> Basline Model 🔍</p>"
   ]
  },
  {
   "cell_type": "code",
   "execution_count": 8,
   "metadata": {},
   "outputs": [
    {
     "name": "stdout",
     "output_type": "stream",
     "text": [
      "CPU times: total: 172 ms\n",
      "Wall time: 222 ms\n"
     ]
    }
   ],
   "source": [
    "%%time\n",
    "\n",
    "X = train.drop('class',axis=1)\n",
    "y = train['class']\n",
    "\n",
    "def Train_ML(Model, X, y, test_data):\n",
    "    \n",
    "    skf = StratifiedKFold(n_splits=n_splits, shuffle=True, random_state=SEED)\n",
    "    train_scores = []\n",
    "    val_scores = []\n",
    "    test_predictions = [] \n",
    "    models = []\n",
    "\n",
    "    for fold, (train_index, test_index) in enumerate(skf.split(X, y), 1):\n",
    "        X_train, X_val = X.iloc[train_index], X.iloc[test_index]\n",
    "        y_train, y_val = y.iloc[train_index], y.iloc[test_index]\n",
    "        \n",
    "        model = Model\n",
    "        \n",
    "        model.fit(X_train, y_train)\n",
    "\n",
    "        y_train_pred = model.predict(X_train)\n",
    "        train_mcc = matthews_corrcoef(y_train, y_train_pred)\n",
    "        train_scores.append(train_mcc)\n",
    "\n",
    "        y_val_pred = model.predict(X_val)\n",
    "        val_mcc = matthews_corrcoef(y_val, y_val_pred)\n",
    "        val_scores.append(val_mcc)\n",
    "        \n",
    "        y_test_pred_proba = model.predict(test_data)\n",
    "        test_predictions.append(y_test_pred_proba)\n",
    "        \n",
    "        models.append(model)\n",
    "\n",
    "        print(f\"Fold {fold}: Train MCC = {train_mcc:.6f}, Validation MCC = {val_mcc:.6f}\")\n",
    "\n",
    "    mean_train_mcc = np.mean(train_scores)\n",
    "    mean_val_mcc = np.mean(val_scores)\n",
    "\n",
    "    print(f\"\\nMean Train MCC: {mean_train_mcc:.6f}\")\n",
    "    print(f\"Mean Validation MCC: {mean_val_mcc:.6f}\")\n",
    "\n",
    "    return model,test_predictions"
   ]
  },
  {
   "cell_type": "markdown",
   "metadata": {},
   "source": [
    "# <p style=\"background-color: #ADEFD1FF; font-family: Pacifico, cursive; color: black; font-size: 100%; text-align: left; border-radius: 20px; padding: 10px 30px; display: inline-block;\"> XGB Classifier 🚀</p>"
   ]
  },
  {
   "cell_type": "code",
   "execution_count": 9,
   "metadata": {},
   "outputs": [
    {
     "name": "stdout",
     "output_type": "stream",
     "text": [
      "Fold 1: Train MCC = 0.987311, Validation MCC = 0.984390\n",
      "Fold 2: Train MCC = 0.987234, Validation MCC = 0.985166\n",
      "Fold 3: Train MCC = 0.987266, Validation MCC = 0.984573\n",
      "Fold 4: Train MCC = 0.987261, Validation MCC = 0.985179\n",
      "Fold 5: Train MCC = 0.987267, Validation MCC = 0.984856\n",
      "Fold 6: Train MCC = 0.987265, Validation MCC = 0.984947\n",
      "Fold 7: Train MCC = 0.987244, Validation MCC = 0.984926\n",
      "Fold 8: Train MCC = 0.987330, Validation MCC = 0.984510\n",
      "Fold 9: Train MCC = 0.987264, Validation MCC = 0.984882\n",
      "Fold 10: Train MCC = 0.987260, Validation MCC = 0.984965\n",
      "\n",
      "Mean Train MCC: 0.987270\n",
      "Mean Validation MCC: 0.984840\n",
      "CPU times: total: 1h 19min 21s\n",
      "Wall time: 1h 39min 14s\n"
     ]
    },
    {
     "data": {
      "text/plain": [
       "['xgb_model_s2.pkl']"
      ]
     },
     "execution_count": 9,
     "metadata": {},
     "output_type": "execute_result"
    }
   ],
   "source": [
    "%%time\n",
    "\n",
    "# \"\"\"Public Lb : 0.98489\"\"\"\n",
    "\n",
    "Xparams_s1 = {'n_estimators': 1396, 'max_depth': 19, 'learning_rate': 0.010455050159676566, 'subsample': 0.8006842727555243, \n",
    "  'colsample_bytree': 0.5001438770455072, 'colsample_bylevel': 0.8027576507794217, 'min_child_weight': 5,\n",
    "  'reg_alpha': 1.1586967014672253e-08, 'reg_lambda': 3.3517458803447213e-06, 'gamma': 0.01841032988451454}\n",
    "\n",
    "\n",
    "xgb_s1 = XGBClassifier(**Xparams_s1, random_state=SEED,tree_method='gpu_hist')   \n",
    "xgb_model_s1, xgb_preds_s1 = Train_ML(xgb_s1, X, y ,test)\n",
    "\n",
    "joblib.dump(xgb_model_s1, 'xgb_model_s2.pkl')"
   ]
  },
  {
   "cell_type": "markdown",
   "metadata": {},
   "source": [
    "# <p style=\"background-color: #ADEFD1FF; font-family: Pacifico, cursive; color: black; font-size: 100%; text-align: left; border-radius: 20px; padding: 10px 30px; display: inline-block;\"> Submission 🚀</p>"
   ]
  },
  {
   "cell_type": "code",
   "execution_count": 12,
   "metadata": {},
   "outputs": [
    {
     "name": "stdout",
     "output_type": "stream",
     "text": [
      "        id class\n",
      "0  3116945     e\n",
      "1  3116946     p\n",
      "2  3116947     p\n",
      "3  3116948     p\n",
      "4  3116949     e\n"
     ]
    }
   ],
   "source": [
    "test_df = pd.read_csv('test.csv')\n",
    "\n",
    "xgb_test = np.mean(xgb_preds_s1, axis=0)\n",
    "\n",
    "xgbpreds = (xgb_test >= 0.5).astype(int)\n",
    "x_f = le.inverse_transform(xgbpreds)\n",
    "\n",
    "sub_F = pd.DataFrame({\n",
    "    'id' : test_df['id'],\n",
    "    'class': x_f\n",
    "})\n",
    "\n",
    "sub_F.to_csv('Submission.csv', index=False)\n",
    "print(sub_F.head())"
   ]
  },
  {
   "cell_type": "code",
   "execution_count": null,
   "metadata": {},
   "outputs": [],
   "source": []
  }
 ],
 "metadata": {
  "kaggle": {
   "accelerator": "gpu",
   "dataSources": [
    {
     "databundleVersionId": 9045607,
     "sourceId": 76727,
     "sourceType": "competition"
    },
    {
     "datasetId": 478,
     "sourceId": 974,
     "sourceType": "datasetVersion"
    }
   ],
   "dockerImageVersionId": 30746,
   "isGpuEnabled": true,
   "isInternetEnabled": true,
   "language": "python",
   "sourceType": "notebook"
  },
  "kernelspec": {
   "display_name": "Python 3 (ipykernel)",
   "language": "python",
   "name": "python3"
  },
  "language_info": {
   "codemirror_mode": {
    "name": "ipython",
    "version": 3
   },
   "file_extension": ".py",
   "mimetype": "text/x-python",
   "name": "python",
   "nbconvert_exporter": "python",
   "pygments_lexer": "ipython3",
   "version": "3.8.19"
  }
 },
 "nbformat": 4,
 "nbformat_minor": 4
}
